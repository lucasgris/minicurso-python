{
  "nbformat": 4,
  "nbformat_minor": 0,
  "metadata": {
    "colab": {
      "name": "Minicurso (Python) - Notebook",
      "version": "0.3.2",
      "provenance": [],
      "collapsed_sections": [],
      "toc_visible": true,
      "include_colab_link": true
    },
    "kernelspec": {
      "name": "python3",
      "display_name": "Python 3"
    }
  },
  "cells": [
    {
      "cell_type": "markdown",
      "metadata": {
        "id": "view-in-github",
        "colab_type": "text"
      },
      "source": [
        "<a href=\"https://colab.research.google.com/github/lucasgris/minicurso-python/blob/master/Minicurso_(Python)_Notebook.ipynb\" target=\"_parent\"><img src=\"https://colab.research.google.com/assets/colab-badge.svg\" alt=\"Open In Colab\"/></a>"
      ]
    },
    {
      "metadata": {
        "id": "3Jtwml3Hm52d",
        "colab_type": "text"
      },
      "cell_type": "markdown",
      "source": [
        "# Minicurso Python\n",
        "\n",
        "![logo](https://www.python.org/static/img/python-logo@2x.png)\n",
        "\n",
        "\n",
        "> *“Se você quiser fazer uma torta de maçã a partir do zero, você deve primeiro inventar o universo.” \n",
        "― Carl Sagan, Cosmos*\n",
        "\n",
        "\n",
        "\n",
        "---"
      ]
    },
    {
      "metadata": {
        "id": "4mX3bMl-886a",
        "colab_type": "text"
      },
      "cell_type": "markdown",
      "source": [
        "**Bem vindo ao mini curso interativo de Python. Com este Notebook, você poderá executar os códigos em Python enquanto aprende!**\n",
        "\n",
        "Esse é um minicurso informal, quero ensinar Python da maneira mais fácil o possível para você!\n",
        "\n",
        "Se quiser, copie este notebook para sua conta google e edite o código (menu arquivo > salvar uma cópia no drive). Você pode executar os códigos em seu computador também, se preferir."
      ]
    },
    {
      "metadata": {
        "id": "ooD8qFUvnjkI",
        "colab_type": "text"
      },
      "cell_type": "markdown",
      "source": [
        "## Introdução\n"
      ]
    },
    {
      "metadata": {
        "id": "oSsOCp6OxaOX",
        "colab_type": "text"
      },
      "cell_type": "markdown",
      "source": [
        "Primeiro, vamos definir o que é uma linguagem de programação. Para [digital dev](http://www.digitaldev.com.br/linguagens-de-programacao/):\n",
        "\n",
        "> Uma linguagem de programação é um método padronizado para expressar instruções para um computador, ou seja, é um conjunto de regras sintáticas e semânticas usadas para definir um programa de computador. \n",
        "\n",
        "Como o computador não entende as linguagens do ser humano, e o ser humano também não entende o computador direito, a gente cria uma linguagem de programação pra facilitar a comunicação entre esses dois mundos, ou seja, um conjunto de caracteres que seguem algumas regras e que o computador consegue processar, ao mesmo tempo que a gente consegue pensar e escrever ela de forma natural.\n",
        "\n",
        "Já o programa, que é escrito em uma LP, é o conjunto de instruções que você escreveu e executa no computador. Um programa pode fazer contas, checar condições e tomar decisões com base nessas condições, realizar tarefas repetidamente, etc.\n",
        "\n",
        "É exatamente isso, se você não está familiarizado com programação, não se preocupe. Na verdade, um programa nada mais é que um texto contendo uma ou mais receitas (que chamamos de algoritmos) e que o computador entende.\n",
        "\n",
        "Se você entende um pouco de inglês, você irá perceber que as LPs são formadas por palavras que a gente já conhece. Na verdade, é desejável que isso ocorra, por isso as linguagens de alto nível são as mais utilizadas hoje em dia (quer saber como era antes? [olha só](http://www.programador.com.br/historia-da-programacao.html)...). Quando você aprender Python, você verá que muitas palavras do cotidiano são utilizadas para dar instruções ao computador.\n",
        "\n",
        "O Python é uma linguagem muito divertida, e com ela nós podemos fazer muitas coisas legais, como por exemplo criar uma [aplicação Web](https://www.shuup.com/django/25-of-the-most-popular-python-and-django-websites/), um [programa para reconhecer faces](https://medium.com/analytics-vidhya/how-to-build-a-face-detection-model-in-python-8dc9cecadfe9) e  até mesmo [programar um robô](/https://robotpy.readthedocs.io/en/stable/). \n",
        "\n",
        "O Python é uma linguagem bem fácil de aprender, então segura aí que já vamos aprender a fazer nossos primeiros programas em Python.\n",
        "\n"
      ]
    },
    {
      "metadata": {
        "id": "duXBNDRuq4Fk",
        "colab_type": "text"
      },
      "cell_type": "markdown",
      "source": [
        "Ao final do curso, eu espero que você seja capaz de entender códigos em Python, como o código abaixo:"
      ]
    },
    {
      "metadata": {
        "id": "aN6-2SLbrEjK",
        "colab_type": "code",
        "outputId": "4c238be5-3324-4cea-c5a2-09bbd8f9135d",
        "colab": {
          "base_uri": "https://localhost:8080/",
          "height": 233
        }
      },
      "cell_type": "code",
      "source": [
        "# Sequencia de fatoriais\n",
        "\n",
        "print('*** Cálculo de fatorial ***')\n",
        "numero = int(input('Insira um número: '))\n",
        "\n",
        "if (numero < 0):\n",
        "    print('Ei.. esse número é negativo!')\n",
        "elif (numero > 10):\n",
        "    print('Esse número é muito grande...')\n",
        "else: \n",
        "    for n in range(numero):\n",
        "        fat = 1\n",
        "        x = 1\n",
        "        while x <= n:\n",
        "            fat *= x\n",
        "            x += 1\n",
        "        print('O fatorial de {n} é {r}'.format(n=n,\n",
        "                                               r=fat))"
      ],
      "execution_count": 0,
      "outputs": [
        {
          "output_type": "stream",
          "text": [
            "*** Cálculo de fatorial ***\n",
            "Insira um número: 10\n",
            "O fatorial de 0 é 1\n",
            "O fatorial de 1 é 1\n",
            "O fatorial de 2 é 2\n",
            "O fatorial de 3 é 6\n",
            "O fatorial de 4 é 24\n",
            "O fatorial de 5 é 120\n",
            "O fatorial de 6 é 720\n",
            "O fatorial de 7 é 5040\n",
            "O fatorial de 8 é 40320\n",
            "O fatorial de 9 é 362880\n"
          ],
          "name": "stdout"
        }
      ]
    },
    {
      "metadata": {
        "id": "xtkG0belJubY",
        "colab_type": "text"
      },
      "cell_type": "markdown",
      "source": [
        "## Primeiros passos\n",
        "\n",
        "Vamos aprender o básico do Python hoje, mas antes, vou passar para você alguns links úteis e explicar alguns conceitos básicos. Você pode pular esta parte se preferir (mas não deixe de dar uma olhada na [documentação](https://docs.python.org/3/))."
      ]
    },
    {
      "metadata": {
        "id": "tdg6IHZRpEAG",
        "colab_type": "text"
      },
      "cell_type": "markdown",
      "source": [
        "### [Site oficial](https://www.python.org/) e [documentação](https://docs.python.org/3/ )\n"
      ]
    },
    {
      "metadata": {
        "id": "wfJ69mnkxePG",
        "colab_type": "text"
      },
      "cell_type": "markdown",
      "source": [
        "No site oficial podemos encontrar muitas coisas úteis, como o **download da linguagem de programação**, **instruções para instalação**, **tutoriais** e a **documentação oficial**.\n",
        "\n",
        "Você pode encontrar um tutorial para instalação no Windows [aqui](https://python.org.br/instalacao-windows/), e se você usa Linux, [aqui](https://python.org.br/instalacao-linux/) (algumas distribuições já vem com o Python pré-instalado), e Mac, [aqui](https://python.org.br/instalacao-mac/). Ah, não se esqueça de selecionar a versão 3 do Python, é a que utilizaremos aqui!\n",
        "\n",
        "No mundo da programação, a documentação é o recurso que descreve o produto. A documentação contém todas as \"instruções\" de uso de alguma coisa.\n",
        "\n",
        "No caso do Python, você pode encontrar a descrição das funções básicas e informações sobre o core da linguagem. Eu recomendo que você faça uma rápida leitura da documentação, mesmo que ela pareça grego para você."
      ]
    },
    {
      "metadata": {
        "id": "9eSir3qrxltN",
        "colab_type": "text"
      },
      "cell_type": "markdown",
      "source": [
        "### Tutoriais e cursos"
      ]
    },
    {
      "metadata": {
        "id": "TvZNZboVxnsU",
        "colab_type": "text"
      },
      "cell_type": "markdown",
      "source": [
        "Você pode encontrar muitos cursos e tutoriais na web para aprender Python, sério, **muitos**.\n",
        "\n",
        "Vou deixar alguns links aqui, mas se tiver interesse, pesquise bem antes de comprar algum curso, porque existem muitas opções. Eu recomendo fazer os cursos gratuitos porque existem boas opções de graça, e somente pagar algum curso mais profissional em algum assunto mais específico (por exemplo, _machine learning_) quando você já conhecer o básico da linguagem.\n",
        "\n",
        "* https://www.youtube.com/watch?v=rfscVS0vtbw\n",
        "* https://www.youtube.com/watch?v=_uQrJ0TkZlc\n",
        "* https://www.youtube.com/watch?v=_uQrJ0TkZlc\n",
        "* https://www.youtube.com/watch?v=vaysJAMDaZw\n",
        "* https://www.udemy.com/python-3-completo/\n",
        "* https://www.udemy.com/tensorflow-machine-learning-deep-learning-python/\n",
        "* https://www.udemy.com/deep-learning-com-python-az-curso-completo/\n",
        "* https://www.youtube.com/watch?v=F5mRW0jo-U4\n",
        "* https://www.youtube.com/watch?v=vOppzHpvTiQ&list=PL2-dafEMk2A7YdKv4XfKpfbTH5z6rEEj3\n",
        "\n",
        "Aqui você acessa o [tutorial oficial](https://docs.python.org/3/tutorial/index.html ).\n",
        "\n"
      ]
    },
    {
      "metadata": {
        "id": "B-Gc7vWlxozn",
        "colab_type": "text"
      },
      "cell_type": "markdown",
      "source": [
        "### [Aplicações: O que eu posso fazer com Python](https://medium.freecodecamp.org/what-can-you-do-with-python-the-3-main-applications-518db9a68a78)?\n",
        "\n"
      ]
    },
    {
      "metadata": {
        "id": "lJYlNX-ixp5P",
        "colab_type": "text"
      },
      "cell_type": "markdown",
      "source": [
        "* Desenvolvimento de aplicações Web\n",
        "* Educação\n",
        "* Deep Learning\n",
        "* Aplicações numéricas e científicas\n",
        "* Desktop GUIs\n",
        "* E muito mais!"
      ]
    },
    {
      "metadata": {
        "id": "9s5MDtGPx4_X",
        "colab_type": "text"
      },
      "cell_type": "markdown",
      "source": [
        "## Características\n",
        "\n"
      ]
    },
    {
      "metadata": {
        "id": "WIaEaPXJGzpI",
        "colab_type": "text"
      },
      "cell_type": "markdown",
      "source": [
        "### Python é uma linguagem interpretada\n",
        "\n",
        "Em geral, as linguagens de programação podem ser compiladas, interpretadas, ou ainda híbridas. As LPs compiladas são aquelas em que existe um processo de tradução do código que você escreveu para um conjunto de instruções que o computador entende (e que você não rsrs). A linguagem interpretada não passa por esse processo, ela é \"lida\" no momento de execução, e o programa (ou máquina virtual) por trás disso, interpreta o código escrito. \n",
        "\n",
        "É como se o código que você escreveu executasse um monte de programas que o computador entende, a medida que as linhas do seu código são lidas pelo interpretador.\n",
        "\n",
        "Você pode aprender mais sobre isso [aqui](https://www.youtube.com/watch?v=fzNd_PD4_n4).\n",
        "\n",
        "**Ta mas qual é melhor, interpretado ou compilado?**\n",
        "\n",
        "A resposta é, depende. Em geral, se você precisa de velocidade, a linguagem compilada se sai melhor, mas a linguagem interpretada tem a vantagem de poder rodar com facilidade em muitas plataformas.\n",
        "\n",
        "O Python mesmo está em tudo, computadores, diferentes sistemas operacionais, embarcados, etc. \n",
        "\n",
        "Um código de uma LP compilada precisa ser compilado toda vez que ele for alterado e toda vez que você quiser trocar de plataforma. Dependendo do caso, isso pode ser bem complicado.\n",
        "\n",
        "Mais adiante você verá trechos de código em Python, se você copiar esses trechos e rodar em seu computador, ele irá executar da mesma forma que ele executou aqui, e da mesma forma que executou na minha casa. "
      ]
    },
    {
      "metadata": {
        "id": "lPWuNb5jD6fA",
        "colab_type": "text"
      },
      "cell_type": "markdown",
      "source": [
        "### Python é interativo\n",
        "\n",
        "Se você tem o Python instalado em seu computador, você poderá testar o shell interativo da linguagem no terminal ou prompt de comandos digitando ```python``` e teclando enter (ou acessando o executável da linguagem).\n",
        "\n",
        "![Imagem do python sendo executado pelo terminal do Ubuntu 18.04. A versão do python é a padrão do sistema, versão 2.7](https://drive.google.com/uc?export=view&id=1DJrQJ4aijK5o4XnxSbFebSCNnteIN9E6)\n",
        "\n",
        "Pra ser bem simples e objetivo, o fato de uma linguagem ser interativa significa que ela pode executar as instruções no momento que você digita. \n",
        "\n",
        "Esse notebook executa Python interativamente, olha só:"
      ]
    },
    {
      "metadata": {
        "id": "pvWIcXzVLwjh",
        "colab_type": "code",
        "outputId": "2f4af034-5292-4b7c-b21c-3132e6f596c6",
        "cellView": "both",
        "colab": {
          "base_uri": "https://localhost:8080/",
          "height": 35
        }
      },
      "cell_type": "code",
      "source": [
        "2 + 1  # Aperta play!"
      ],
      "execution_count": 0,
      "outputs": [
        {
          "output_type": "execute_result",
          "data": {
            "text/plain": [
              "3"
            ]
          },
          "metadata": {
            "tags": []
          },
          "execution_count": 3
        }
      ]
    },
    {
      "metadata": {
        "id": "E0NS_DQBNiPK",
        "colab_type": "text"
      },
      "cell_type": "markdown",
      "source": [
        "Você também pode encontrar vários shell interativos [online](https://repl.it/languages), e executar Python diretamente do seu navegador!"
      ]
    },
    {
      "metadata": {
        "id": "MDGnmP7vKrIc",
        "colab_type": "text"
      },
      "cell_type": "markdown",
      "source": [
        "### Python é fácil de entender\n",
        "\n",
        "O Python é muito fácil de entender, tenho certeza que você não irá ter dificuldades. "
      ]
    },
    {
      "metadata": {
        "id": "Rc43z3rgOfFE",
        "colab_type": "code",
        "outputId": "e8556325-1668-4ade-f021-de5b7cd4037d",
        "colab": {
          "base_uri": "https://localhost:8080/",
          "height": 35
        }
      },
      "cell_type": "code",
      "source": [
        "python_is_easy = True\n",
        "if python_is_easy:\n",
        "    print('Python is easy!')"
      ],
      "execution_count": 0,
      "outputs": [
        {
          "output_type": "stream",
          "text": [
            "Python is easy!\n"
          ],
          "name": "stdout"
        }
      ]
    },
    {
      "metadata": {
        "id": "E8y4qLyLKuJT",
        "colab_type": "text"
      },
      "cell_type": "markdown",
      "source": [
        "### Python tem uma comunidade enorme\n",
        "\n",
        "Se tiver uma dúvida, use nosso famoso Google, tenho certeza que você encontrará muitos problemas similares na web.\n",
        "\n",
        "O [Stack Overflow](https://stackoverflow.com/) é uma comunidade de programadores onde nós podemos postar, procurar e responder dúvidas de outros programadores. Você encontrará muita coisa lá!"
      ]
    },
    {
      "metadata": {
        "id": "gSUM6kCcK6Mq",
        "colab_type": "text"
      },
      "cell_type": "markdown",
      "source": [
        "## Primeiro programa"
      ]
    },
    {
      "metadata": {
        "id": "PQ0RItQOXaFl",
        "colab_type": "text"
      },
      "cell_type": "markdown",
      "source": [
        "### [Olá mundo!](https://www.youtube.com/watch?v=zecueq-mo4M)\n",
        "\n",
        "É padrão criarmos um código de Olá Mundo! para nosso primeiro programa.\n",
        "\n",
        "Uma das funções mais básicas de qualquer LP é a possibilidade de mostrar algo na tela, ou imprimir, como chamamos. Vamos usar essa função para imprimir uma mensagem de boas vindas?"
      ]
    },
    {
      "metadata": {
        "id": "V3S8TPXI7_Ym",
        "colab_type": "code",
        "outputId": "f38cdbe7-d1f3-4ae4-c396-19823fc41b53",
        "colab": {
          "base_uri": "https://localhost:8080/",
          "height": 35
        }
      },
      "cell_type": "code",
      "source": [
        "print('Olá Mundo!')"
      ],
      "execution_count": 0,
      "outputs": [
        {
          "output_type": "stream",
          "text": [
            "Olá Mundo!\n"
          ],
          "name": "stdout"
        }
      ]
    },
    {
      "metadata": {
        "id": "Ugwrqmh5TJns",
        "colab_type": "text"
      },
      "cell_type": "markdown",
      "source": [
        "Experimente copiar esse código  ```print('Olá Mundo!')``` e executar em seu computador também. \n",
        "\n",
        "*Observação: estamos utilizando a versão 3 do Python aqui. A versão 2 do Python ainda é muito utilizada,, mas sua sintaxe é um pouco diferente. Por exemplo, no código acima, teríamos `print \"Olá Mundo!\"` (sem parênteses). Se você instalou a versão 2 do Python, terá que se atentar a isso.*\n",
        "\n"
      ]
    },
    {
      "metadata": {
        "id": "b9AFj15-NMtT",
        "colab_type": "text"
      },
      "cell_type": "markdown",
      "source": [
        "## Palavras chave"
      ]
    },
    {
      "metadata": {
        "id": "hzI10wLrN6zt",
        "colab_type": "text"
      },
      "cell_type": "markdown",
      "source": [
        "As palavras-chave são fundamentais nas linguagens de programação. Com elas, e a noção de regras de sintaxe básicas, nós conseguiremos nos expressar para que o computador nos entenda.\n",
        "\n",
        "Pense no nosso querido português, as palavras chave seriam como verbos ou substantivos. Ainda poderíamos dar nomes as coisas (veremos isso a seguir).\n",
        "\n",
        "Por exemplo,  ```False``` é uma palavra que representa falso no Python, enquanto ```import``` é uma palavra que indica ao computador para importar algo. Veja a lista das palavras chaves do Python abaixo. No decorrer deste curso, você se familiarizará com muitas delas.\n",
        "\n",
        "\n",
        "\n",
        "\n",
        "\n"
      ]
    },
    {
      "metadata": {
        "id": "mIRwM71aPxtt",
        "colab_type": "code",
        "outputId": "ce0dcf50-55e7-4fea-bf56-729b5a49c326",
        "colab": {
          "base_uri": "https://localhost:8080/",
          "height": 251
        }
      },
      "cell_type": "code",
      "source": [
        "help('keywords')"
      ],
      "execution_count": 0,
      "outputs": [
        {
          "output_type": "stream",
          "text": [
            "\n",
            "Here is a list of the Python keywords.  Enter any keyword to get more help.\n",
            "\n",
            "False               def                 if                  raise\n",
            "None                del                 import              return\n",
            "True                elif                in                  try\n",
            "and                 else                is                  while\n",
            "as                  except              lambda              with\n",
            "assert              finally             nonlocal            yield\n",
            "break               for                 not                 \n",
            "class               from                or                  \n",
            "continue            global              pass                \n",
            "\n"
          ],
          "name": "stdout"
        }
      ]
    },
    {
      "metadata": {
        "id": "yrtDaF5HQW9s",
        "colab_type": "text"
      },
      "cell_type": "markdown",
      "source": [
        "## Operações aritméticas"
      ]
    },
    {
      "metadata": {
        "id": "iG4lGResBn4Q",
        "colab_type": "text"
      },
      "cell_type": "markdown",
      "source": [
        "Sempre necessitamos realizar operações artiméticas. Na verdade, essa é uma das razões pela qual as linguagens de programação são desenvolvidas, assim podemos realizar cálculos e resolver nossos problemas do dia-a-dia.\n",
        "\n",
        "No Python temos a maioria das operações aritméticas já embutidas na linguagem, e realizamos as operações como se estivéssemos fazendo alguma conta no papel, por exemplo:\n"
      ]
    },
    {
      "metadata": {
        "id": "hzfaAiAuNVnu",
        "colab_type": "code",
        "outputId": "b116b102-ccf8-4343-8c4f-d122440302fe",
        "colab": {
          "base_uri": "https://localhost:8080/",
          "height": 35
        }
      },
      "cell_type": "code",
      "source": [
        "# Uma simples adição\n",
        "3 + 5"
      ],
      "execution_count": 0,
      "outputs": [
        {
          "output_type": "execute_result",
          "data": {
            "text/plain": [
              "8"
            ]
          },
          "metadata": {
            "tags": []
          },
          "execution_count": 7
        }
      ]
    },
    {
      "metadata": {
        "id": "rwx8jjOIhOox",
        "colab_type": "code",
        "outputId": "d14aac7e-235c-4d2e-dd72-2507bffc3d2b",
        "colab": {
          "base_uri": "https://localhost:8080/",
          "height": 35
        }
      },
      "cell_type": "code",
      "source": [
        "# Uma subtração\n",
        "3.50 - 2.50"
      ],
      "execution_count": 0,
      "outputs": [
        {
          "output_type": "execute_result",
          "data": {
            "text/plain": [
              "1.0"
            ]
          },
          "metadata": {
            "tags": []
          },
          "execution_count": 8
        }
      ]
    },
    {
      "metadata": {
        "id": "J70osRWjhVHa",
        "colab_type": "code",
        "outputId": "05011f22-c923-45e2-dd09-b047eb7c8a6b",
        "colab": {
          "base_uri": "https://localhost:8080/",
          "height": 35
        }
      },
      "cell_type": "code",
      "source": [
        "# Para dividir, usamos a barra \"/\"\n",
        "7 / 2"
      ],
      "execution_count": 0,
      "outputs": [
        {
          "output_type": "execute_result",
          "data": {
            "text/plain": [
              "3.5"
            ]
          },
          "metadata": {
            "tags": []
          },
          "execution_count": 1
        }
      ]
    },
    {
      "metadata": {
        "id": "NNC1Y6phhXD_",
        "colab_type": "code",
        "outputId": "53145887-f401-4012-de32-a7f55f7b2f50",
        "colab": {
          "base_uri": "https://localhost:8080/",
          "height": 35
        }
      },
      "cell_type": "code",
      "source": [
        "# Multiplicação fazemos com \"*\". Também podemos utilizar parênteses para \n",
        "# especificar o que será calculado antes, igual na matemática\n",
        "10 * (5 + 4)"
      ],
      "execution_count": 0,
      "outputs": [
        {
          "output_type": "execute_result",
          "data": {
            "text/plain": [
              "90"
            ]
          },
          "metadata": {
            "tags": []
          },
          "execution_count": 2
        }
      ]
    },
    {
      "metadata": {
        "id": "ibRqvs9rZWcJ",
        "colab_type": "text"
      },
      "cell_type": "markdown",
      "source": [
        "Perceba que podemos definir qual \"conta\" será feita antes com o uso de parênteses, igual na matemática. Por exemplo, `4 * (2 + 5)` é diferente de `4 * 2 + 5`. Além disso, existe uma precedência de operadores, para definir qual operação será executada primeiro. Veja mais sobre isso [aqui](https://docs.python.org/3/reference/expressions.html#operator-precedence)."
      ]
    },
    {
      "metadata": {
        "id": "ajrCD_2v6kXR",
        "colab_type": "text"
      },
      "cell_type": "markdown",
      "source": [
        "Além dessas quatro operações aritméticas básicas, ainda temos outras. Olha só a lista completa:\n",
        "\n",
        "```\n",
        "+\tAdição \n",
        "-\tSubtração\n",
        "*\tMultiplicação\t\n",
        "/\tDivisão (o resultado é um número fracionário)\n",
        "%\tMódulo (o resto de uma divisão)\n",
        "//\tDivisão inteira \n",
        "**\tExponenciação\n",
        "```\n",
        "\n"
      ]
    },
    {
      "metadata": {
        "id": "lee-IcSYKnLC",
        "colab_type": "text"
      },
      "cell_type": "markdown",
      "source": [
        "\n",
        "\n",
        "O legal do Python é que essas operações funcionam com outras coisas além de números, e ainda podemos programar isso (veremos isso num futuro próximo) \n",
        "\n",
        "Tome alguns minutos para estudar e testar essas operações."
      ]
    },
    {
      "metadata": {
        "id": "PUTy7ZWANc33",
        "colab_type": "text"
      },
      "cell_type": "markdown",
      "source": [
        "Veja como podemos utilizar a operação de adição com frases:"
      ]
    },
    {
      "metadata": {
        "id": "T452_b8sNi9L",
        "colab_type": "code",
        "outputId": "970049ec-756b-40cd-f135-1a76354f346f",
        "colab": {
          "base_uri": "https://localhost:8080/",
          "height": 35
        }
      },
      "cell_type": "code",
      "source": [
        "'Uma frase' + ' ' + 'concatenada'"
      ],
      "execution_count": 0,
      "outputs": [
        {
          "output_type": "execute_result",
          "data": {
            "text/plain": [
              "'Uma frase concatenada'"
            ]
          },
          "metadata": {
            "tags": []
          },
          "execution_count": 9
        }
      ]
    },
    {
      "metadata": {
        "id": "5V4Bdybj7IIG",
        "colab_type": "text"
      },
      "cell_type": "markdown",
      "source": [
        "Vamos ver como utilizar essas operações aritméticas na programação [daqui a pouco,](#scrollTo=zTrmY4urABzd) faremos algumas contas e armazenaremos na memória do computador, e leremos o que o usuário digitar no teclado, para então fazer alguma coisa.  "
      ]
    },
    {
      "metadata": {
        "id": "Wrv4xNBvALOd",
        "colab_type": "text"
      },
      "cell_type": "markdown",
      "source": [
        "## Operações relacionais"
      ]
    },
    {
      "metadata": {
        "id": "J1-rS3_ZldvT",
        "colab_type": "text"
      },
      "cell_type": "markdown",
      "source": [
        "Antes de vermos como funcionam os operadores, quero que você se familiarize com os conceitos de __verdadeiro__ e __falso__ na programação.\n",
        "\n",
        "É muito util expressarmos se algo é verdade ou falso na programação. Para isso, utilizamos as palavras chaves ```False``` e ```True```. \n"
      ]
    },
    {
      "metadata": {
        "id": "jM8dozeTA02E",
        "colab_type": "text"
      },
      "cell_type": "markdown",
      "source": [
        "O resultado de uma operação aritmética é um número, da mesma forma, o resultado de uma operação relacional é um valor lógico (__verdadeiro__ ou  __falso__). Por isso, quando realizarmos uma operação relacional, teremos como resultado `True` ou `False`."
      ]
    },
    {
      "metadata": {
        "id": "NZlQrzeXA8v1",
        "colab_type": "text"
      },
      "cell_type": "markdown",
      "source": [
        "De forma bem simples, a operação relacional é a operação que relaciona dois objetos da linguagem (em geral, números). Com elas podemos verificar se um número é igual  ou maior que outro, ou se algo é igual ou diferente de outra coisa. Veja:"
      ]
    },
    {
      "metadata": {
        "id": "SxzaC5-xmtf6",
        "colab_type": "code",
        "outputId": "55825371-666e-4656-b246-8b2063e6f7c8",
        "colab": {
          "base_uri": "https://localhost:8080/",
          "height": 35
        }
      },
      "cell_type": "code",
      "source": [
        "# 5 é maior que 4?\n",
        "5 > 4"
      ],
      "execution_count": 0,
      "outputs": [
        {
          "output_type": "execute_result",
          "data": {
            "text/plain": [
              "True"
            ]
          },
          "metadata": {
            "tags": []
          },
          "execution_count": 11
        }
      ]
    },
    {
      "metadata": {
        "id": "4KynvWoHm7bW",
        "colab_type": "code",
        "outputId": "6dd5aba9-1769-4eed-8927-0268041b00c5",
        "colab": {
          "base_uri": "https://localhost:8080/",
          "height": 35
        }
      },
      "cell_type": "code",
      "source": [
        "# 10 é igual a 10?\n",
        "10 == 10"
      ],
      "execution_count": 0,
      "outputs": [
        {
          "output_type": "execute_result",
          "data": {
            "text/plain": [
              "True"
            ]
          },
          "metadata": {
            "tags": []
          },
          "execution_count": 12
        }
      ]
    },
    {
      "metadata": {
        "id": "7o9ao14Im95x",
        "colab_type": "code",
        "outputId": "5b725f4b-db35-4800-ae5a-ba56117501c3",
        "colab": {
          "base_uri": "https://localhost:8080/",
          "height": 35
        }
      },
      "cell_type": "code",
      "source": [
        "# Verdade é igual a falso?\n",
        "True == False"
      ],
      "execution_count": 0,
      "outputs": [
        {
          "output_type": "execute_result",
          "data": {
            "text/plain": [
              "False"
            ]
          },
          "metadata": {
            "tags": []
          },
          "execution_count": 13
        }
      ]
    },
    {
      "metadata": {
        "id": "9242QMiEm_MA",
        "colab_type": "code",
        "outputId": "0db4599f-3a67-4f02-c40b-17d4ca3b3f13",
        "colab": {
          "base_uri": "https://localhost:8080/",
          "height": 35
        }
      },
      "cell_type": "code",
      "source": [
        "# (4 é maior ou igual a três?) \n",
        "# A resposta do que está dentro do parênteses é igual a verdadeiro?\n",
        "(4 >= 3) == True"
      ],
      "execution_count": 0,
      "outputs": [
        {
          "output_type": "execute_result",
          "data": {
            "text/plain": [
              "True"
            ]
          },
          "metadata": {
            "tags": []
          },
          "execution_count": 18
        }
      ]
    },
    {
      "metadata": {
        "id": "0LkbvfJP3mI-",
        "colab_type": "text"
      },
      "cell_type": "markdown",
      "source": [
        "Note que utilizamos certos símbolos para verificar a igualdade entre objetos, se um número é maior que outro, etc. A maioria deles a gente já conhece, mas vou deixar aqui em baixo os [símbolos que a linguagem Python utiliza](https://www.tutorialspoint.com/python/python_basic_operators.htm) para realizar operações relacionais."
      ]
    },
    {
      "metadata": {
        "id": "g6J5eOk8-Qbj",
        "colab_type": "text"
      },
      "cell_type": "markdown",
      "source": [
        "\n",
        "\n",
        "```\n",
        "> Maior que\n",
        "< Menor que\n",
        ">= Maior ou igual que\n",
        "<= Menor ou igual que\n",
        "== Igual\n",
        "!= Diferente\n",
        "```\n",
        "\n"
      ]
    },
    {
      "metadata": {
        "id": "zA1e2JRg8NoB",
        "colab_type": "text"
      },
      "cell_type": "markdown",
      "source": [
        "Tome  alguns minutos para entender bem estes conceitos, porque você utilizará muito eles daqui pra frente."
      ]
    },
    {
      "metadata": {
        "id": "H30Z02V1QbAm",
        "colab_type": "text"
      },
      "cell_type": "markdown",
      "source": [
        "## Operações lógicas"
      ]
    },
    {
      "metadata": {
        "id": "oB1dxciyNaAR",
        "colab_type": "text"
      },
      "cell_type": "markdown",
      "source": [
        "O conceito de operações lógicas é muito simples. Elas permitem que os programas tomem decisões com base em condições.\n",
        "\n",
        "Se você tem familiaridade com eletrônica, notará que as principais operações lógicas são implementadas em portas lógicas. \n",
        "\n",
        "Podemos escrever uma série de instruções complexas utilizando as operações lógicas, vamos conhecer algumas delas?"
      ]
    },
    {
      "metadata": {
        "id": "ccgBGLU58vgM",
        "colab_type": "text"
      },
      "cell_type": "markdown",
      "source": [
        "### As palavras chave `and`, `or`, `not`"
      ]
    },
    {
      "metadata": {
        "id": "iDAK9Ty-9Ava",
        "colab_type": "text"
      },
      "cell_type": "markdown",
      "source": [
        "Existem três operações lógicas básicas que você precisa conhecer, e são elas: __and__, __not__ e __or__.\n",
        "\n",
        "Assim como as operações relacionais, o resultado de cada operação é um valor lógico.\n"
      ]
    },
    {
      "metadata": {
        "id": "wJ8LORYV-rbC",
        "colab_type": "text"
      },
      "cell_type": "markdown",
      "source": [
        "Vamos estudar um pouco sobre cada operação?\n",
        "\n",
        "A primeira delas é a __and__. No Python utilizamos a palavra chave `and` para realizar a operação (em outras LPs, utilizamos outros símbolos, como por exemplo `&&`). \n",
        "\n",
        "O resultado da operação __and__ só retorna verdadeiro caso os dois operandos também sejam verdadeiros. Veja:"
      ]
    },
    {
      "metadata": {
        "id": "tJqTqk-N8_8P",
        "colab_type": "code",
        "outputId": "f919ecac-31d7-4e5b-f901-f038e073bd80",
        "colab": {
          "base_uri": "https://localhost:8080/",
          "height": 35
        }
      },
      "cell_type": "code",
      "source": [
        "True and True"
      ],
      "execution_count": 0,
      "outputs": [
        {
          "output_type": "execute_result",
          "data": {
            "text/plain": [
              "True"
            ]
          },
          "metadata": {
            "tags": []
          },
          "execution_count": 3
        }
      ]
    },
    {
      "metadata": {
        "id": "0YfVSTez_RfU",
        "colab_type": "code",
        "outputId": "f48bac7f-09f7-4901-83f6-a1b9c32e15c8",
        "colab": {
          "base_uri": "https://localhost:8080/",
          "height": 35
        }
      },
      "cell_type": "code",
      "source": [
        "True and False"
      ],
      "execution_count": 0,
      "outputs": [
        {
          "output_type": "execute_result",
          "data": {
            "text/plain": [
              "False"
            ]
          },
          "metadata": {
            "tags": []
          },
          "execution_count": 4
        }
      ]
    },
    {
      "metadata": {
        "id": "MX5uzq8G_RrB",
        "colab_type": "code",
        "outputId": "ceff7bff-83f1-4426-d744-dab7e4085eae",
        "colab": {
          "base_uri": "https://localhost:8080/",
          "height": 35
        }
      },
      "cell_type": "code",
      "source": [
        "False and True"
      ],
      "execution_count": 0,
      "outputs": [
        {
          "output_type": "execute_result",
          "data": {
            "text/plain": [
              "False"
            ]
          },
          "metadata": {
            "tags": []
          },
          "execution_count": 5
        }
      ]
    },
    {
      "metadata": {
        "id": "mf_fc4el_R2N",
        "colab_type": "code",
        "outputId": "65c1f9b0-ac36-4a9e-a305-e2885bb0717d",
        "colab": {
          "base_uri": "https://localhost:8080/",
          "height": 35
        }
      },
      "cell_type": "code",
      "source": [
        "False and False"
      ],
      "execution_count": 0,
      "outputs": [
        {
          "output_type": "execute_result",
          "data": {
            "text/plain": [
              "False"
            ]
          },
          "metadata": {
            "tags": []
          },
          "execution_count": 6
        }
      ]
    },
    {
      "metadata": {
        "id": "ATFWCSw0BvpJ",
        "colab_type": "text"
      },
      "cell_type": "markdown",
      "source": [
        "Isso significa que podemos testar se duas situações são verdadeiras na programação. Você verá que isso é muito útil.\n",
        "\n",
        "Vamos complicar um pouco, vou colocar as operações relacionais junto com as operações lógicas, olha só:"
      ]
    },
    {
      "metadata": {
        "id": "oip1qY8G_TIC",
        "colab_type": "code",
        "outputId": "e2833735-cae2-40e8-d9ab-cf0acdb10253",
        "colab": {
          "base_uri": "https://localhost:8080/",
          "height": 35
        }
      },
      "cell_type": "code",
      "source": [
        "# 9 é positivo E o resto da divisão de 4 com 2 é igual a 0?\n",
        "(9 > 0) and (4 % 2 == 0)"
      ],
      "execution_count": 0,
      "outputs": [
        {
          "output_type": "execute_result",
          "data": {
            "text/plain": [
              "True"
            ]
          },
          "metadata": {
            "tags": []
          },
          "execution_count": 7
        }
      ]
    },
    {
      "metadata": {
        "id": "0A5ga7BG_TSu",
        "colab_type": "code",
        "outputId": "a9cd837f-488d-4573-bd09-a7601975e4a7",
        "colab": {
          "base_uri": "https://localhost:8080/",
          "height": 35
        }
      },
      "cell_type": "code",
      "source": [
        "# 4 é maior ou igual a 4 E 2 é diferente de 2?\n",
        "(4 >= 4) and (2 != 2)"
      ],
      "execution_count": 0,
      "outputs": [
        {
          "output_type": "execute_result",
          "data": {
            "text/plain": [
              "False"
            ]
          },
          "metadata": {
            "tags": []
          },
          "execution_count": 9
        }
      ]
    },
    {
      "metadata": {
        "id": "FMQp_Zt7_Td7",
        "colab_type": "code",
        "outputId": "9122c28e-03dd-4cd1-ba59-f78d66515e78",
        "colab": {
          "base_uri": "https://localhost:8080/",
          "height": 35
        }
      },
      "cell_type": "code",
      "source": [
        "# 4 é menor que três E 2 elevado a três é igual a 8?\n",
        "(4 < 3) and ((2**3) == 8)"
      ],
      "execution_count": 0,
      "outputs": [
        {
          "output_type": "execute_result",
          "data": {
            "text/plain": [
              "False"
            ]
          },
          "metadata": {
            "tags": []
          },
          "execution_count": 8
        }
      ]
    },
    {
      "metadata": {
        "id": "WBb-o67y_Tsc",
        "colab_type": "code",
        "outputId": "251d0258-d73e-461e-b5f9-13b8758b389d",
        "colab": {
          "base_uri": "https://localhost:8080/",
          "height": 35
        }
      },
      "cell_type": "code",
      "source": [
        "# 1 é maior que 9999 E 987 menos 986 é negativo?\n",
        "(1 > 9999) and ((987 - 986) < 0)"
      ],
      "execution_count": 0,
      "outputs": [
        {
          "output_type": "execute_result",
          "data": {
            "text/plain": [
              "False"
            ]
          },
          "metadata": {
            "tags": []
          },
          "execution_count": 10
        }
      ]
    },
    {
      "metadata": {
        "id": "P58tSxssE7Ol",
        "colab_type": "text"
      },
      "cell_type": "markdown",
      "source": [
        "O __or__ funciona de maneira parecida, mas se qualquer um dos operandos for verdadeiro, o resultado da operação vai ser verdadeiro, olha só:"
      ]
    },
    {
      "metadata": {
        "id": "__mCTzoIFG4r",
        "colab_type": "code",
        "outputId": "8afa9724-37cf-442d-e39b-c6fe0c666441",
        "colab": {
          "base_uri": "https://localhost:8080/",
          "height": 35
        }
      },
      "cell_type": "code",
      "source": [
        "True or True"
      ],
      "execution_count": 0,
      "outputs": [
        {
          "output_type": "execute_result",
          "data": {
            "text/plain": [
              "True"
            ]
          },
          "metadata": {
            "tags": []
          },
          "execution_count": 11
        }
      ]
    },
    {
      "metadata": {
        "id": "tXDjNwEyFHGM",
        "colab_type": "code",
        "outputId": "c07192ed-7e2d-412a-9da0-9586917166ae",
        "colab": {
          "base_uri": "https://localhost:8080/",
          "height": 35
        }
      },
      "cell_type": "code",
      "source": [
        "True or False"
      ],
      "execution_count": 0,
      "outputs": [
        {
          "output_type": "execute_result",
          "data": {
            "text/plain": [
              "True"
            ]
          },
          "metadata": {
            "tags": []
          },
          "execution_count": 12
        }
      ]
    },
    {
      "metadata": {
        "id": "9N9ow6nBFHSJ",
        "colab_type": "code",
        "outputId": "5a39781f-70e3-4b17-ab0b-208efced0161",
        "colab": {
          "base_uri": "https://localhost:8080/",
          "height": 35
        }
      },
      "cell_type": "code",
      "source": [
        "False or True"
      ],
      "execution_count": 0,
      "outputs": [
        {
          "output_type": "execute_result",
          "data": {
            "text/plain": [
              "True"
            ]
          },
          "metadata": {
            "tags": []
          },
          "execution_count": 13
        }
      ]
    },
    {
      "metadata": {
        "id": "UAd_s_2oFHeY",
        "colab_type": "code",
        "outputId": "664c35ec-1917-4fa7-fadc-5fd6d3bc93bc",
        "colab": {
          "base_uri": "https://localhost:8080/",
          "height": 35
        }
      },
      "cell_type": "code",
      "source": [
        "False or False"
      ],
      "execution_count": 0,
      "outputs": [
        {
          "output_type": "execute_result",
          "data": {
            "text/plain": [
              "False"
            ]
          },
          "metadata": {
            "tags": []
          },
          "execution_count": 14
        }
      ]
    },
    {
      "metadata": {
        "id": "LZXOI3KTFICo",
        "colab_type": "text"
      },
      "cell_type": "markdown",
      "source": [
        "Complicando um pouco..."
      ]
    },
    {
      "metadata": {
        "id": "scThcT3RFIVY",
        "colab_type": "code",
        "outputId": "8fc36f11-485b-4318-bade-4e90ea63a461",
        "colab": {
          "base_uri": "https://localhost:8080/",
          "height": 35
        }
      },
      "cell_type": "code",
      "source": [
        "# 9 é positivo OU o resto da divisão de 4 com 2 é igual a 0?\n",
        "(9 > 0) or (4 % 2 == 0)"
      ],
      "execution_count": 0,
      "outputs": [
        {
          "output_type": "execute_result",
          "data": {
            "text/plain": [
              "True"
            ]
          },
          "metadata": {
            "tags": []
          },
          "execution_count": 15
        }
      ]
    },
    {
      "metadata": {
        "id": "nrBqVjgxFIh2",
        "colab_type": "code",
        "outputId": "cfd6d21d-3b7a-41c2-e649-701662b106ab",
        "colab": {
          "base_uri": "https://localhost:8080/",
          "height": 35
        }
      },
      "cell_type": "code",
      "source": [
        "# 4 é maior ou igual a 4 OU 2 é diferente de 2?\n",
        "(4 >= 4) or (2 != 2)"
      ],
      "execution_count": 0,
      "outputs": [
        {
          "output_type": "execute_result",
          "data": {
            "text/plain": [
              "True"
            ]
          },
          "metadata": {
            "tags": []
          },
          "execution_count": 16
        }
      ]
    },
    {
      "metadata": {
        "id": "aV1ItgxtFIrt",
        "colab_type": "code",
        "outputId": "d4c94491-25ab-4727-88a4-13dbd74d1c79",
        "colab": {
          "base_uri": "https://localhost:8080/",
          "height": 35
        }
      },
      "cell_type": "code",
      "source": [
        "# 4 é menor que três OU 2 elevado a três é igual a 8?\n",
        "(4 < 3) or ((2**3) == 8)"
      ],
      "execution_count": 0,
      "outputs": [
        {
          "output_type": "execute_result",
          "data": {
            "text/plain": [
              "True"
            ]
          },
          "metadata": {
            "tags": []
          },
          "execution_count": 17
        }
      ]
    },
    {
      "metadata": {
        "id": "63MVvhyOFI5F",
        "colab_type": "code",
        "outputId": "1653a1c6-ea64-4e2c-93ba-271dcde6b4d3",
        "colab": {
          "base_uri": "https://localhost:8080/",
          "height": 35
        }
      },
      "cell_type": "code",
      "source": [
        "# 1 é maior que 9999 OU 987 menos 986 é negativo?\n",
        "(1 > 9999) or ((987 - 986) < 0)"
      ],
      "execution_count": 0,
      "outputs": [
        {
          "output_type": "execute_result",
          "data": {
            "text/plain": [
              "False"
            ]
          },
          "metadata": {
            "tags": []
          },
          "execution_count": 18
        }
      ]
    },
    {
      "metadata": {
        "id": "TkVW8VY6-f72",
        "colab_type": "text"
      },
      "cell_type": "markdown",
      "source": [
        "Também podemos negar algo se colocarmos a palavra chave ```not``` antes da expressão, por exemplo:"
      ]
    },
    {
      "metadata": {
        "id": "NxJ1NRlh3gXJ",
        "colab_type": "code",
        "outputId": "b18be321-7ad8-4809-feca-be67107bace5",
        "colab": {
          "base_uri": "https://localhost:8080/",
          "height": 35
        }
      },
      "cell_type": "code",
      "source": [
        "not False"
      ],
      "execution_count": 0,
      "outputs": [
        {
          "output_type": "execute_result",
          "data": {
            "text/plain": [
              "True"
            ]
          },
          "metadata": {
            "tags": []
          },
          "execution_count": 20
        }
      ]
    },
    {
      "metadata": {
        "id": "KuGzYfdX-zx8",
        "colab_type": "code",
        "outputId": "13c06276-eba2-4b88-9e31-40acaa5d942f",
        "colab": {
          "base_uri": "https://localhost:8080/",
          "height": 35
        }
      },
      "cell_type": "code",
      "source": [
        "not (3 > 2)"
      ],
      "execution_count": 0,
      "outputs": [
        {
          "output_type": "execute_result",
          "data": {
            "text/plain": [
              "False"
            ]
          },
          "metadata": {
            "tags": []
          },
          "execution_count": 21
        }
      ]
    },
    {
      "metadata": {
        "id": "ac1Q_fTgCz3l",
        "colab_type": "text"
      },
      "cell_type": "markdown",
      "source": [
        "A essa altura do campeonato você deve estar se perguntando o porque de estarmos fazendo operações óbvias e que isso parece meio inútil. Calma, agora que a brincadeira começa a ficar legal, porque vamos estudar variáveis."
      ]
    },
    {
      "metadata": {
        "id": "4KBjUhRtQRNP",
        "colab_type": "text"
      },
      "cell_type": "markdown",
      "source": [
        "## Variáveis"
      ]
    },
    {
      "metadata": {
        "id": "GwWActKjQTlG",
        "colab_type": "text"
      },
      "cell_type": "markdown",
      "source": [
        "Imagine a situação: você faz um cálculo enorme e precisa armazená-lo em algum lugar para depois utilizar esse resultado, ou ainda, você cria um formulário web para cadastrar os dados de uma pessoa, e é necessário salvar esses dados, como você faz?\n",
        "\n",
        "A resposta para esse problema é __variáveis__. Variáveis são muito úteis na programação, porque elas podem armazenar quase qualquer coisa que precisamos. Para isso, usamos o símbolo de atribuição `=`. Olha só:"
      ]
    },
    {
      "metadata": {
        "id": "twnfulkU_yEY",
        "colab_type": "code",
        "outputId": "27fd6311-d0e6-4d43-fabb-84260d1a54fd",
        "colab": {
          "base_uri": "https://localhost:8080/",
          "height": 35
        }
      },
      "cell_type": "code",
      "source": [
        "resultado = 4 + 1\n",
        "resultado"
      ],
      "execution_count": 0,
      "outputs": [
        {
          "output_type": "execute_result",
          "data": {
            "text/plain": [
              "5"
            ]
          },
          "metadata": {
            "tags": []
          },
          "execution_count": 1
        }
      ]
    },
    {
      "metadata": {
        "id": "jRZiOkTaBoIC",
        "colab_type": "code",
        "colab": {}
      },
      "cell_type": "code",
      "source": [
        "alguma_variavel = True or (4 < 3)"
      ],
      "execution_count": 0,
      "outputs": []
    },
    {
      "metadata": {
        "id": "BPPkEN_SB1FJ",
        "colab_type": "text"
      },
      "cell_type": "markdown",
      "source": [
        "O nome da variável se chama identificador. Existem algumas regras para criar nomes (identificadores), e você deve segui-las. Veja:\n",
        "\n",
        "1.   *Os identificadores não podem ser palavras-chave. Por exemplo `while = 4` não é permitido.  *\n",
        "2.   *Os identificadores não podem começar com caracteres especiais ou números, por exemplo `@var` e `1var` não são permitidas.*\n",
        "3.   *Hífens não são permitidos em identificadores, por exemplo, `var-1`.*\n",
        "4.   *Qualquer outra combinação de caracteres é permitida, por exemplo, `var1` e `resultado_2` são permitidas. *\n",
        "\n"
      ]
    },
    {
      "metadata": {
        "id": "kDzXPyZlFMe8",
        "colab_type": "text"
      },
      "cell_type": "markdown",
      "source": [
        "*__Atenção__: o Python diferencia maiúsculas de minúsculas, veja:*"
      ]
    },
    {
      "metadata": {
        "id": "XbwecYvHJs83",
        "colab_type": "code",
        "outputId": "e9dd9f92-c3ba-4d1d-a643-5bad8a679bc1",
        "colab": {
          "base_uri": "https://localhost:8080/",
          "height": 34
        }
      },
      "cell_type": "code",
      "source": [
        "# O Python diferencia maiusculas de minusculas por isso True e true representam \n",
        "# coisas diferentes, por exemplo:\n",
        "\n",
        "true = 5\n",
        "true == True"
      ],
      "execution_count": 0,
      "outputs": [
        {
          "output_type": "execute_result",
          "data": {
            "text/plain": [
              "False"
            ]
          },
          "metadata": {
            "tags": []
          },
          "execution_count": 1
        }
      ]
    },
    {
      "metadata": {
        "id": "-EPf4XgpJvUA",
        "colab_type": "text"
      },
      "cell_type": "markdown",
      "source": [
        "Eu recomendo que você faça uma rápida leitura nas [convenções do Python](https://www.python.org/dev/peps/pep-0008/#naming-conventions) (são convenções de como codificar adequadamente), principalmente na parte de criar identificadores."
      ]
    },
    {
      "metadata": {
        "id": "AR9w0-VyHOJB",
        "colab_type": "text"
      },
      "cell_type": "markdown",
      "source": [
        "Agora que você já sabe o que são variáveis e já conhece as operações básicas, acredito que irá conseguir entender o código abaixo:"
      ]
    },
    {
      "metadata": {
        "id": "74Wwvm9S_glf",
        "colab_type": "code",
        "colab": {}
      },
      "cell_type": "code",
      "source": [
        "gosto_de_python = True\n",
        "preciso_aprender_python = False\n",
        "\n",
        "vou_aprender_python = gosto_de_python or preciso_aprender_python\n",
        "\n",
        "vou_aprender_python"
      ],
      "execution_count": 0,
      "outputs": []
    },
    {
      "metadata": {
        "id": "3a15EUahYke7",
        "colab_type": "text"
      },
      "cell_type": "markdown",
      "source": [
        "*__Cuidado__: não tente resolver equações utilizando programação. A linguagem de programação foi feita para realizar instruções que você definir, e não resolver equações matemáticas (você até pode resolver equações desde que programe um algoritmo para isso). Isso é um erro comum que percebo em iniciantes na programação. Por exemplo:*\n",
        "\n",
        "``` \n",
        "y = 4\n",
        "y = 3 + x\n",
        "print(x)\n",
        "```\n",
        "\n",
        "*Você não terá a resposta de x se quiser, na verdade, é possível que você receba um erro, porque talvez a variável ```x``` nem esteja definida.*"
      ]
    },
    {
      "metadata": {
        "id": "CSD2SCrUy0K0",
        "colab_type": "text"
      },
      "cell_type": "markdown",
      "source": [
        "#### Atribuindo valores"
      ]
    },
    {
      "metadata": {
        "id": "NjHlggi-y6e4",
        "colab_type": "text"
      },
      "cell_type": "markdown",
      "source": [
        "Agora que você já conhece algums operações básicas e o conceito de variáveis, vamos estudar um pouco sobre como armazenar esses valores em uma variável.\n",
        "\n",
        "O método mais fácil e comum é a atribuição. Ela é feita com o valor de igual (`=`). Você já deve ter se familiarizado com essa operação, basta colocar a variável antes do símbolo de atribuição, e em seguida um valor correspondente."
      ]
    },
    {
      "metadata": {
        "id": "vm7irn_BzRtJ",
        "colab_type": "code",
        "outputId": "4a9433a1-4e4c-47df-8cf8-801413e18536",
        "colab": {
          "base_uri": "https://localhost:8080/",
          "height": 35
        }
      },
      "cell_type": "code",
      "source": [
        "var = 5              # Cria uma variavel e atribui um valor a ela\n",
        "var    "
      ],
      "execution_count": 0,
      "outputs": [
        {
          "output_type": "execute_result",
          "data": {
            "text/plain": [
              "5"
            ]
          },
          "metadata": {
            "tags": []
          },
          "execution_count": 1
        }
      ]
    },
    {
      "metadata": {
        "id": "BxkuzIJpzYWr",
        "colab_type": "text"
      },
      "cell_type": "markdown",
      "source": [
        "Agora imagine que você queira adicionar um valor a `var`, teríamos:"
      ]
    },
    {
      "metadata": {
        "id": "L8dHNoNTzTGW",
        "colab_type": "code",
        "outputId": "a0e05135-2051-4815-be80-a35ac8cb31c3",
        "colab": {
          "base_uri": "https://localhost:8080/",
          "height": 35
        }
      },
      "cell_type": "code",
      "source": [
        "var = 5              # Cria uma variavel e atribui um valor a ela\n",
        "var + 2              # Adiciona 5 a variavel\n",
        "var"
      ],
      "execution_count": 0,
      "outputs": [
        {
          "output_type": "execute_result",
          "data": {
            "text/plain": [
              "5"
            ]
          },
          "metadata": {
            "tags": []
          },
          "execution_count": 2
        }
      ]
    },
    {
      "metadata": {
        "id": "l2LYAECm0jKb",
        "colab_type": "text"
      },
      "cell_type": "markdown",
      "source": [
        "Perceba que o valor foi adicionado a variável, mas não atribuimos ela a `var` novamente, por isso o valor da variável não mudou. __Isso é um erro comum em iniciantes__, cuidado!"
      ]
    },
    {
      "metadata": {
        "id": "IMLAZggv0wo6",
        "colab_type": "code",
        "outputId": "bbfbeb39-d499-44ed-81c7-70f98f31f41b",
        "colab": {
          "base_uri": "https://localhost:8080/",
          "height": 35
        }
      },
      "cell_type": "code",
      "source": [
        "var = 5             # Cria a variavel\n",
        "var = var + 2       # Adiciona o valor e atribui o resultado a variavel\n",
        "var"
      ],
      "execution_count": 0,
      "outputs": [
        {
          "output_type": "execute_result",
          "data": {
            "text/plain": [
              "7"
            ]
          },
          "metadata": {
            "tags": []
          },
          "execution_count": 3
        }
      ]
    },
    {
      "metadata": {
        "id": "vDhBasCk0-Fz",
        "colab_type": "text"
      },
      "cell_type": "markdown",
      "source": [
        "Nós programadores gostamos de simplificar as coisas, por isso, poderíamos escrever `+=` e teriamos o mesmo resultado. Veja:"
      ]
    },
    {
      "metadata": {
        "id": "tRRILCKs1GIy",
        "colab_type": "code",
        "colab": {}
      },
      "cell_type": "code",
      "source": [
        "var = 5             # Cria a variavel\n",
        "var += 2            # O mesmo que var = var + 2\n",
        "var"
      ],
      "execution_count": 0,
      "outputs": []
    },
    {
      "metadata": {
        "id": "vz_cYNkz1M3V",
        "colab_type": "text"
      },
      "cell_type": "markdown",
      "source": [
        "Se acostume com essa sintaxe, você verá muito `+=`, `-=`, `*=`, e similares..."
      ]
    },
    {
      "metadata": {
        "id": "zTrmY4urABzd",
        "colab_type": "text"
      },
      "cell_type": "markdown",
      "source": [
        "## Mão na massa: criando alguns programas"
      ]
    },
    {
      "metadata": {
        "id": "wgfxUgxQ__62",
        "colab_type": "text"
      },
      "cell_type": "markdown",
      "source": [
        "### Funções ```input``` e ```print```"
      ]
    },
    {
      "metadata": {
        "id": "ZVtlwcLLHW3g",
        "colab_type": "text"
      },
      "cell_type": "markdown",
      "source": [
        "Quero apresentar para você duas funções bem importantes que a linguagem Python já tem. Sâo elas `input()` e `print()`.\n",
        "\n",
        "Com a função `input()`,  conseguimos obter a entrada do usuário pelo teclado. Veja:"
      ]
    },
    {
      "metadata": {
        "id": "pC8KmS_zJZgN",
        "colab_type": "code",
        "outputId": "a18c51dd-7ecc-4621-9df9-4cf0dbce3619",
        "colab": {
          "base_uri": "https://localhost:8080/",
          "height": 53
        }
      },
      "cell_type": "code",
      "source": [
        "input()"
      ],
      "execution_count": 0,
      "outputs": [
        {
          "output_type": "stream",
          "text": [
            "3\n"
          ],
          "name": "stdout"
        },
        {
          "output_type": "execute_result",
          "data": {
            "text/plain": [
              "'3'"
            ]
          },
          "metadata": {
            "tags": []
          },
          "execution_count": 3
        }
      ]
    },
    {
      "metadata": {
        "id": "G-gfT_4iJjju",
        "colab_type": "text"
      },
      "cell_type": "markdown",
      "source": [
        "Podemos inserir um texto amigável para o usuário, basta colocar entre aspas uma frase dentro dos parênteses na função, olha só:"
      ]
    },
    {
      "metadata": {
        "id": "fNwgPwfuJipY",
        "colab_type": "code",
        "colab": {}
      },
      "cell_type": "code",
      "source": [
        "input('Informe seu nome')"
      ],
      "execution_count": 0,
      "outputs": []
    },
    {
      "metadata": {
        "id": "UKBuFdB6JxL7",
        "colab_type": "text"
      },
      "cell_type": "markdown",
      "source": [
        "Você já sabe o que são variáveis, que tal armazenarmos este valor em uma variável?"
      ]
    },
    {
      "metadata": {
        "id": "0ULIhXQrKKJR",
        "colab_type": "code",
        "colab": {}
      },
      "cell_type": "code",
      "source": [
        "idade = input('Informe sua idade')\n",
        "idade"
      ],
      "execution_count": 0,
      "outputs": []
    },
    {
      "metadata": {
        "id": "f61g_Tu4JkhL",
        "colab_type": "text"
      },
      "cell_type": "markdown",
      "source": [
        "Tudo que estiver dentro dos parênteses chamamos de parâmetros da função (veremos um dia como criar nossas próprias funções com os parâmetros que acharmos necessário)."
      ]
    },
    {
      "metadata": {
        "id": "bjXoWaLjKiDk",
        "colab_type": "text"
      },
      "cell_type": "markdown",
      "source": [
        "Até agora utilizamos o recurso de interatividade do Python para mostrar os resultados de nossos programas. Se você executar os códigos que fizemos até agora no modo script você nâo verá nenhum resultado na tela. Para exibir esses resultados, utilizamos a função `print()`. \n",
        "\n",
        "A função `print()` é similar a função `input()`, mas o programa não esperará o usuário fornecer nenhum dado."
      ]
    },
    {
      "metadata": {
        "id": "uhzBgib0Jkx4",
        "colab_type": "code",
        "outputId": "784c5615-fd27-4b91-d592-0370166c6289",
        "colab": {
          "base_uri": "https://localhost:8080/",
          "height": 35
        }
      },
      "cell_type": "code",
      "source": [
        "print('Python')"
      ],
      "execution_count": 0,
      "outputs": [
        {
          "output_type": "stream",
          "text": [
            "Python\n"
          ],
          "name": "stdout"
        }
      ]
    },
    {
      "metadata": {
        "id": "7-F8q-NNMCI5",
        "colab_type": "code",
        "outputId": "3aceca5f-3ec9-4b5c-abcb-1de3071fe6e6",
        "colab": {
          "base_uri": "https://localhost:8080/",
          "height": 53
        }
      },
      "cell_type": "code",
      "source": [
        "idade = input('Informe sua idade:')\n",
        "print(idade)"
      ],
      "execution_count": 0,
      "outputs": [
        {
          "output_type": "stream",
          "text": [
            "Informe sua idade88\n",
            "88\n"
          ],
          "name": "stdout"
        }
      ]
    },
    {
      "metadata": {
        "id": "lxE0ZVigMQpI",
        "colab_type": "text"
      },
      "cell_type": "markdown",
      "source": [
        "É claro que desejamos imprimir os nossos dados de maneira mais conveniente as vezes. Consulte a documentação para saber mais a respeito (veja também sobre a função `format()`). Olha só alguns exemplos:"
      ]
    },
    {
      "metadata": {
        "id": "7DABXJXtMjTs",
        "colab_type": "code",
        "outputId": "1475baa5-7119-415f-98dc-b145313dceb2",
        "colab": {
          "base_uri": "https://localhost:8080/",
          "height": 35
        }
      },
      "cell_type": "code",
      "source": [
        "print('A minha idade é', 18)"
      ],
      "execution_count": 0,
      "outputs": [
        {
          "output_type": "stream",
          "text": [
            "A minha idade é 18\n"
          ],
          "name": "stdout"
        }
      ]
    },
    {
      "metadata": {
        "id": "GSFWCpW4M7kI",
        "colab_type": "code",
        "outputId": "fd3b7cdf-7665-45ca-b5c9-b84237bb4705",
        "colab": {
          "base_uri": "https://localhost:8080/",
          "height": 35
        }
      },
      "cell_type": "code",
      "source": [
        "print('Meu nome é {nome}'.format(nome='Newton'))"
      ],
      "execution_count": 0,
      "outputs": [
        {
          "output_type": "stream",
          "text": [
            "Meu nome é Lucas\n"
          ],
          "name": "stdout"
        }
      ]
    },
    {
      "metadata": {
        "id": "cD81xM8KMjQy",
        "colab_type": "code",
        "outputId": "75cffd25-a0dc-4f6b-b543-693170c6e5ab",
        "colab": {
          "base_uri": "https://localhost:8080/",
          "height": 35
        }
      },
      "cell_type": "code",
      "source": [
        "print('{} * {} = {}'.format(6, 8, 6*8))"
      ],
      "execution_count": 0,
      "outputs": [
        {
          "output_type": "stream",
          "text": [
            "6 * 8 = 48\n"
          ],
          "name": "stdout"
        }
      ]
    },
    {
      "metadata": {
        "id": "8eQE4riHhxss",
        "colab_type": "code",
        "outputId": "f944799d-1652-44d4-fe10-f0b6f5432c53",
        "colab": {
          "base_uri": "https://localhost:8080/",
          "height": 34
        }
      },
      "cell_type": "code",
      "source": [
        "nome = 'Isaac'\n",
        "sobrenome = 'Clark'\n",
        "print(nome + ' ' + sobrenome)"
      ],
      "execution_count": 0,
      "outputs": [
        {
          "output_type": "stream",
          "text": [
            "Isaac Clark\n"
          ],
          "name": "stdout"
        }
      ]
    },
    {
      "metadata": {
        "id": "4U8OPZu1Nz6B",
        "colab_type": "text"
      },
      "cell_type": "markdown",
      "source": [
        "### Programa para verificar se um número é par"
      ]
    },
    {
      "metadata": {
        "id": "BUAKVygd_RTR",
        "colab_type": "code",
        "outputId": "abcde89b-989d-4600-d8b9-d565f5b16fa1",
        "colab": {
          "base_uri": "https://localhost:8080/",
          "height": 51
        }
      },
      "cell_type": "code",
      "source": [
        "# Programa para verificar se um numero e par\n",
        "num = int(input('Insira um número inteiro: '))  # Espera pela entrada do usuário\n",
        "print('O numero {} é par: {}'.format(num, (num % 2 == 0)))"
      ],
      "execution_count": 0,
      "outputs": [
        {
          "output_type": "stream",
          "text": [
            "Insira um número inteiro: 8\n",
            "O numero 8 é par: True\n"
          ],
          "name": "stdout"
        }
      ]
    },
    {
      "metadata": {
        "id": "t0THG2xgVCV_",
        "colab_type": "text"
      },
      "cell_type": "markdown",
      "source": [
        "Note que utilizamos uma função para transformar uma [string](https://panda.ime.usp.br/pensepy/static/pensepy/08-Strings/strings.html) (conjunto de caracteres) em um número inteiro com a função `int()`.\n",
        "\n",
        "Isso foi necessário porque a entrada do teclado é considerada como sendo string (o computador não sabe se o retorno de `input()` será uma palavra ou um número por exemplo). Então precisamos dizer para o computador o tipo daquele dado depois. \n",
        "\n",
        "Logo entrarei em detalhes sobre os tipos de dados, e você verá que existem alguns tipos de dados específicos para cada tipo de uso. O Python não é uma linguagem fortemente tipada, então na maioria das vezes não precisamos nos preocupar muito com isso (se você estivesse aprendendo outra linguagem, como Java por exemplo, teríamos que nos aprofundar em tipos de dados logo no início)"
      ]
    },
    {
      "metadata": {
        "id": "tXP7YgGA7GY3",
        "colab_type": "text"
      },
      "cell_type": "markdown",
      "source": [
        "Faremos novamente este exemplo utilizando desvio condicional daqui a pouco, você verá que poderemos tomar alguma decisão caso o número dado seja par, ao invés de simplesmente imprimir `True` ou `False` na tela."
      ]
    },
    {
      "metadata": {
        "id": "UdlkSG1r74iR",
        "colab_type": "text"
      },
      "cell_type": "markdown",
      "source": [
        "Enquanto isso, tente fazer um programa para exibir se um número é impar:"
      ]
    },
    {
      "metadata": {
        "id": "HJ_QOc8F8BHr",
        "colab_type": "code",
        "colab": {}
      },
      "cell_type": "code",
      "source": [
        "# Programa para verificar se um numero e impar\n",
        "# ToDo"
      ],
      "execution_count": 0,
      "outputs": []
    },
    {
      "metadata": {
        "id": "6UM353KsOBvr",
        "colab_type": "text"
      },
      "cell_type": "markdown",
      "source": [
        "### Programa para calcular o IMC de uma pessoa"
      ]
    },
    {
      "metadata": {
        "id": "hSA9vULO7iB5",
        "colab_type": "code",
        "outputId": "91376fa4-668a-4d08-ca72-7d9672b19094",
        "colab": {
          "base_uri": "https://localhost:8080/",
          "height": 71
        }
      },
      "cell_type": "code",
      "source": [
        "# Programa para calcular o imc de uma pessoa\n",
        "massa = float(input('Insira seu peso: '))     # Espera pela entrada da massa\n",
        "altura = float(input('Insira sua altura: '))  # Espera pela entrada da altura\n",
        "imc = massa / (altura**2)                     # Calcula o IMC\n",
        "print('Seu IMC é:' + str(imc))                # Mostra na tela o resultado"
      ],
      "execution_count": 0,
      "outputs": [
        {
          "output_type": "stream",
          "text": [
            "Insira seu peso: 67\n",
            "Insira sua altura: 1.8\n",
            "Seu IMC é:20.679012345679013\n"
          ],
          "name": "stdout"
        }
      ]
    },
    {
      "metadata": {
        "id": "bq6A8Xzk7g8i",
        "colab_type": "text"
      },
      "cell_type": "markdown",
      "source": [
        "Aqui também temos algumas funções novas para lidar com tipos de dados. Observe que utilizei `float()` e `str()` para lidar com números racionais e strings. Na linha 2 e 3 por exemplo, precisamos dizer que a entrada do usuário é um número racional, já na linha 5, para realizar a concatenação precisamos converter o número em string (do contrário, como o interpretador saberia se estávamos querendo concatenar ou realizar uma operação de soma?).\n",
        "\n",
        "__Porque não utilizei `int()` nas linhas 2 e 3?__ Observe os exemplos seguintes."
      ]
    },
    {
      "metadata": {
        "id": "HN6DL22NpopJ",
        "colab_type": "code",
        "outputId": "ea6d06e2-b94c-48a3-e5bb-b3f8e66867c7",
        "colab": {
          "base_uri": "https://localhost:8080/",
          "height": 35
        }
      },
      "cell_type": "code",
      "source": [
        "int(3.14)                                   "
      ],
      "execution_count": 0,
      "outputs": [
        {
          "output_type": "execute_result",
          "data": {
            "text/plain": [
              "3"
            ]
          },
          "metadata": {
            "tags": []
          },
          "execution_count": 7
        }
      ]
    },
    {
      "metadata": {
        "id": "ewc8M_ppprF4",
        "colab_type": "code",
        "outputId": "fb32e229-87f8-4534-8141-3b5448246c6b",
        "colab": {
          "base_uri": "https://localhost:8080/",
          "height": 35
        }
      },
      "cell_type": "code",
      "source": [
        "float(3.14)"
      ],
      "execution_count": 0,
      "outputs": [
        {
          "output_type": "execute_result",
          "data": {
            "text/plain": [
              "3.14"
            ]
          },
          "metadata": {
            "tags": []
          },
          "execution_count": 8
        }
      ]
    },
    {
      "metadata": {
        "id": "Q8vW7xYhqCZz",
        "colab_type": "text"
      },
      "cell_type": "markdown",
      "source": [
        "Ah, o nome dessa operação que acabamos de realizar é [__casting__](https://pythonspot.com/datatype-casting/).  É muito comum utilizarmos casting na programação."
      ]
    },
    {
      "metadata": {
        "id": "L79EpOMw6Bom",
        "colab_type": "text"
      },
      "cell_type": "markdown",
      "source": [
        "## Estruturando seu programa"
      ]
    },
    {
      "metadata": {
        "id": "hBz46WtWPS_i",
        "colab_type": "text"
      },
      "cell_type": "markdown",
      "source": [
        "Agora que você já conhece os principais recursos da linguagem , podemos estudar um pouco sobre a estrutura dos programas em Python."
      ]
    },
    {
      "metadata": {
        "id": "jwQOKELb6V9I",
        "colab_type": "text"
      },
      "cell_type": "markdown",
      "source": [
        "### Linhas e indentação"
      ]
    },
    {
      "metadata": {
        "id": "9vXg64A7KozX",
        "colab_type": "text"
      },
      "cell_type": "markdown",
      "source": [
        "Você pode escrever um programa em Python em arquivos de texto com a extensão .py . Subentende-se que um arquivo com este tipo de extensão representa um script escrito em Python.\n",
        "\n",
        "Quando escrevermos nosso programa (ou até mesmo interativamente no console), devemos seguir algumas regras simples para que o interpretador entenda o que escrevemos.\n",
        "\n",
        "Existem dois conceitos importantes na programação que você precisa se familiariazar para criarmos programas mais complexos. São eles: o conceito de linhas e o conceito de indentação.\n",
        "\n",
        "Linhas são exatamente o que o nome sugere, são as linhas do nosso programa. Você deve ter percebido que o interpretador executa linha a linha nosso programa, como se estivesse lendo um texto. Observe:"
      ]
    },
    {
      "metadata": {
        "id": "Xqczo2EMKmr6",
        "colab_type": "code",
        "outputId": "6d35dbe6-e96a-4a26-b5c5-6a26cd52b7b3",
        "colab": {
          "base_uri": "https://localhost:8080/",
          "height": 102
        }
      },
      "cell_type": "code",
      "source": [
        "print('Executando a linha 1')\n",
        "print('Executando a linha 2')\n",
        "print('Executando a linha 3')\n",
        "print('Executando a linha 4')\n",
        "print('Executando a linha 5')"
      ],
      "execution_count": 0,
      "outputs": [
        {
          "output_type": "stream",
          "text": [
            "Executando a linha 1\n",
            "Executando a linha 2\n",
            "Executando a linha 3\n",
            "Executando a linha 4\n",
            "Executando a linha 5\n"
          ],
          "name": "stdout"
        }
      ]
    },
    {
      "metadata": {
        "id": "9ofso2x6LmJV",
        "colab_type": "text"
      },
      "cell_type": "markdown",
      "source": [
        "Isto é, em nenhum momento o interpretador executou uma linha antes de executar todas as linhas precedentes. Isso pode parecer um pouco óbvio, mas é preciso entender a ordem na qual nossas instruções são executadas (eu utilizei um exemplo simples aqui, mas poderíamos ter um programa com muitas linhas e instruções mais complexas)."
      ]
    },
    {
      "metadata": {
        "id": "fy66aFtcMMR9",
        "colab_type": "text"
      },
      "cell_type": "markdown",
      "source": [
        "O segundo conceito que quero que você entenda agora é o conceito de identação. Indentar significar recuar uma ou mais linhas do nosso código. Por que faríamos isso? Para melhorar a legibilidade de código.\n",
        "\n",
        "No caso do Python, indentar não somente é recomendado mas necessário. Um código não indentado adequadamente não executará.\n",
        "\n",
        "Isso ocorre principalmente porque queremos ser capazes de separar nosso código em partes menores e executá-los de forma especial. Em algumas linguagens de programação, utilizamos símbolos para enfatizar isso, como as chaves (`{ }`). No Python não utilizamos símbolos, nós indentamos o código."
      ]
    },
    {
      "metadata": {
        "id": "SDvioUhvNJsD",
        "colab_type": "code",
        "outputId": "7e09f60e-0ba2-44f0-d429-dc3d98dbafbe",
        "colab": {
          "base_uri": "https://localhost:8080/",
          "height": 34
        }
      },
      "cell_type": "code",
      "source": [
        "# Código indentado\n",
        "if True:  \n",
        "    print('Código indentado')"
      ],
      "execution_count": 0,
      "outputs": [
        {
          "output_type": "stream",
          "text": [
            "Código indentado\n"
          ],
          "name": "stdout"
        }
      ]
    },
    {
      "metadata": {
        "id": "hEwT6gkvNmz-",
        "colab_type": "code",
        "outputId": "285a6525-6016-44b7-9be0-16fc4fb8c4a6",
        "colab": {
          "base_uri": "https://localhost:8080/",
          "height": 130
        }
      },
      "cell_type": "code",
      "source": [
        "# Código mal indentado, não funcionará\n",
        "if True:\n",
        "print('Código mal indentado')"
      ],
      "execution_count": 0,
      "outputs": [
        {
          "output_type": "error",
          "ename": "IndentationError",
          "evalue": "ignored",
          "traceback": [
            "\u001b[0;36m  File \u001b[0;32m\"<ipython-input-4-55609510e774>\"\u001b[0;36m, line \u001b[0;32m2\u001b[0m\n\u001b[0;31m    print('Código indentado')\u001b[0m\n\u001b[0m        ^\u001b[0m\n\u001b[0;31mIndentationError\u001b[0m\u001b[0;31m:\u001b[0m expected an indented block\n"
          ]
        }
      ]
    },
    {
      "metadata": {
        "id": "0NZkqy2XNQ-O",
        "colab_type": "text"
      },
      "cell_type": "markdown",
      "source": [
        "Você verá a importância da indentação quando estudarmos outras instruções do Python, como instruções de desvios `IF-THEN-ELSE`."
      ]
    },
    {
      "metadata": {
        "id": "NYcdZIkONu4Y",
        "colab_type": "text"
      },
      "cell_type": "markdown",
      "source": [
        "*__Atenção__: nem sempre um código mal indentado resultará em erro. Pode acontecer de um código indentado incorretamente ainda estar correto sintaticamente, mas a lógica do seu programa estará errada!*\n",
        "\n",
        "*Observe abaixo como dois trechos parecidos de código produzem resultados diferentes por causa da indentação (quem está certo?):*"
      ]
    },
    {
      "metadata": {
        "id": "ea7XllkeN-iY",
        "colab_type": "code",
        "outputId": "c1a3f21a-bfa6-4707-b890-1d309a6e13f8",
        "colab": {
          "base_uri": "https://localhost:8080/",
          "height": 34
        }
      },
      "cell_type": "code",
      "source": [
        "a = b = 0      # Atribui o valor 0 as variaveis a e b\n",
        "if False:      # Se falso, executa o que estiver indentado depois de :\n",
        "    a = 5      # Não irá executar\n",
        "b = 10         # Irá executar\n",
        "print(a + b)   # Mostra o resultado da soma de a com b"
      ],
      "execution_count": 0,
      "outputs": [
        {
          "output_type": "stream",
          "text": [
            "10\n"
          ],
          "name": "stdout"
        }
      ]
    },
    {
      "metadata": {
        "id": "0m0zaIClOXtQ",
        "colab_type": "code",
        "outputId": "44864755-c903-41ba-e7fa-940cfe46b47a",
        "colab": {
          "base_uri": "https://localhost:8080/",
          "height": 34
        }
      },
      "cell_type": "code",
      "source": [
        "a = b = 0      # Atribui o valor 0 as variaveis a e b\n",
        "if False:      # Se falso, executa o que estiver indentado depois de :\n",
        "    a = 5      # Não irá executar\n",
        "    b = 10     # Não irá executar\n",
        "print(a + b)   # Mostra o resultado da soma de a com b"
      ],
      "execution_count": 0,
      "outputs": [
        {
          "output_type": "stream",
          "text": [
            "0\n"
          ],
          "name": "stdout"
        }
      ]
    },
    {
      "metadata": {
        "id": "D5g83Y516g_P",
        "colab_type": "text"
      },
      "cell_type": "markdown",
      "source": [
        "### Comentários"
      ]
    },
    {
      "metadata": {
        "id": "VACfO10hO7cv",
        "colab_type": "code",
        "outputId": "9a12d9d5-c86d-43ec-ab49-4cc8abba04d8",
        "colab": {
          "base_uri": "https://localhost:8080/",
          "height": 136
        }
      },
      "cell_type": "code",
      "source": [
        "# Comentários são muito importantes para escrever um bom código\n",
        "# Eles aumentam a legibilidade e facilitam o entendimento do código.\n",
        "# Com eles podemos explicar o que uma variável significa, ou anotar alguma\n",
        "# mudança que deve ser feita logo, por exemplo:\n",
        "# TODO: documentar o código\n",
        "\n",
        "# Um comentário não é executado pelo interpretador, serve apenas como \"texto\" \n",
        "# no código. Para escrever um comentário, insira o símbolo # no inicío da linha.\n",
        "\n",
        "# Existem outras formas de comentar, podemos utilizar também as aspas duplas \n",
        "# três vezes.\n",
        "# Geralmente usamos isso para escrever a documentação de algo. Olha só:\n",
        "\n",
        "# Isso é a definição de uma função, mas não se preocupe, vou explicar isso em \n",
        "# um futuro próximo.\n",
        "def nao_faca_nada():\n",
        "    \"\"\"\n",
        "    Isso é a documentação de uma função que não faz nada.\n",
        "    \n",
        "    Essa função não faz nada e não serve pra nada, igual essa documentação.\n",
        "    \n",
        "    Executá-la não irá fazer absolutamente nada.\n",
        "    \"\"\"\n",
        "    pass  # Pass é uma operação nula\n",
        "\n",
        "# Assim podemos ver o propósito de alguma coisa no código.\n",
        "print(nao_faca_nada.__doc__)"
      ],
      "execution_count": 0,
      "outputs": [
        {
          "output_type": "stream",
          "text": [
            "\n",
            "    Isso é a documentação da função que não faz nada.\n",
            "    \n",
            "    Essa função não faz nada e não serve pra nada, igual essa documentação.\n",
            "    \n",
            "    Executá-la não irá fazer absolutamente nada.\n",
            "    \n"
          ],
          "name": "stdout"
        }
      ]
    },
    {
      "metadata": {
        "id": "E3pp-FMWV6kW",
        "colab_type": "code",
        "colab": {}
      },
      "cell_type": "code",
      "source": [
        "# Esse é um exemplo de um código pouco legível, sem documentação, e sem \n",
        "# comentários. \n",
        "def bs(l):\n",
        "    e = len(l)-1\n",
        "    odn = False\n",
        "    while not odn:\n",
        "        odn = True\n",
        "        for i in range(e):\n",
        "            if l[i] > l[i+1]:\n",
        "                l[i], l[i+1] = l[i+1],l[i]\n",
        "                odn = False        \n",
        "                print(l)\n",
        "    return l"
      ],
      "execution_count": 0,
      "outputs": []
    },
    {
      "metadata": {
        "id": "M4BJfFpwQ35B",
        "colab_type": "text"
      },
      "cell_type": "markdown",
      "source": [
        "Espero que você tenha entendido o conceito de comentário.[ Use-o com bom senso](https://medium.freecodecamp.org/code-comments-the-good-the-bad-and-the-ugly-be9cc65fbf83)."
      ]
    },
    {
      "metadata": {
        "id": "mT74bPGN6aFe",
        "colab_type": "text"
      },
      "cell_type": "markdown",
      "source": [
        "## Quotes"
      ]
    },
    {
      "metadata": {
        "id": "K9gKb9r6UfqO",
        "colab_type": "text"
      },
      "cell_type": "markdown",
      "source": [
        "Nós já utilizamos muitos quotes aqui. Com eles podemos definir cadeias de caracteres e imprimir frases na tela.\n",
        "\n",
        "Os quotes em Python podem ser feitos com aspas simpels ou aspas duplas. Não existe diferença. Em outras linguagens de programação as aspas simples significam caracteres simples enquanto as aspas duplas representam strings. No Python, não existe restrição e você pode utilizar a que se sentir mais a vontade.\n",
        "\n",
        "Se precisar utilizar aspas simples ou duplas dentro de uma frase, utilize as aspas que você não utilizou ainda para delimitar a string."
      ]
    },
    {
      "metadata": {
        "id": "xlJM-og_Q3MV",
        "colab_type": "code",
        "outputId": "8602c24d-b3c9-42b6-9558-042f95befe71",
        "colab": {
          "base_uri": "https://localhost:8080/",
          "height": 68
        }
      },
      "cell_type": "code",
      "source": [
        "print('Isso é uma string com aspas simples')\n",
        "\n",
        "print(\"Isso é uma string com aspas duplas\")\n",
        "\n",
        "# Precisei colocar aspas duplas aqui:\n",
        "print('Isso é uma string, que na verdade é uma \"frase\"'  )"
      ],
      "execution_count": 0,
      "outputs": [
        {
          "output_type": "stream",
          "text": [
            "Isso é uma string com aspas simples\n",
            "Isso é uma string com aspas duplas\n",
            "Isso é uma string, que na verdade é uma \"frase\"\n"
          ],
          "name": "stdout"
        }
      ]
    },
    {
      "metadata": {
        "id": "HPuVXClJ6lLK",
        "colab_type": "text"
      },
      "cell_type": "markdown",
      "source": [
        "## Estruturas de controle"
      ]
    },
    {
      "metadata": {
        "id": "GALQuDzNsJZU",
        "colab_type": "text"
      },
      "cell_type": "markdown",
      "source": [
        "Este é um dos principais tópicos desse nosso minicurso. Até agora trabalhamos de forma sequencial e realizamos pequenos cálculos. \n",
        "\n",
        "Com estruturas de controle de fluxo e repetição poderemos criar algoritmos mais complexos que tomam decisões e repetem o código iterativamente."
      ]
    },
    {
      "metadata": {
        "id": "RiH0hyOQcSk3",
        "colab_type": "text"
      },
      "cell_type": "markdown",
      "source": [
        "### A instrução `if-elif-else`"
      ]
    },
    {
      "metadata": {
        "id": "SFhhohNO4N0C",
        "colab_type": "text"
      },
      "cell_type": "markdown",
      "source": [
        "A primeira instrução que quero passar para você é a instrução `if`.\n",
        "\n",
        "Com o `if` nós verificamos __se__ algo é verdadeiro e executamos um determinado código. Isto é, o bloco de código dentro da instrução `if` só será executado caso a condição da instrução seja verdadeira. Veja:"
      ]
    },
    {
      "metadata": {
        "id": "u99JB6pZ6lQ9",
        "colab_type": "code",
        "outputId": "4f3d82e3-dbec-4f2e-983f-0288d3a0d6d3",
        "colab": {
          "base_uri": "https://localhost:8080/",
          "height": 35
        }
      },
      "cell_type": "code",
      "source": [
        "if True:                              # Se verdadeiro:\n",
        "    print('A condição é verdadeira')  # Executa o bloco de código"
      ],
      "execution_count": 0,
      "outputs": [
        {
          "output_type": "stream",
          "text": [
            "A condição é verdadeira\n"
          ],
          "name": "stdout"
        }
      ]
    },
    {
      "metadata": {
        "id": "YiyulQlD65Zj",
        "colab_type": "code",
        "colab": {}
      },
      "cell_type": "code",
      "source": [
        "if False:                             # Se verdadeiro:\n",
        "    print('A condição é verdadeira')  # Executa o bloco de código    "
      ],
      "execution_count": 0,
      "outputs": []
    },
    {
      "metadata": {
        "id": "Ckh_puMQ6d6s",
        "colab_type": "text"
      },
      "cell_type": "markdown",
      "source": [
        "Note que no primeiro exemplo uma mensagem foi impressa na tela, enquanto no segundo exemplo não.\n",
        "\n",
        "Lembra quando fizemos alguns testes lógicos [anteriormente](#scrollTo=Wrv4xNBvALOd&uniqifier=1)? Agora podemos utilizá-los para tomar decisões, veja:"
      ]
    },
    {
      "metadata": {
        "id": "pQeRrbVs7o3V",
        "colab_type": "code",
        "outputId": "be3f65a3-ce74-4bda-a31e-0bc63f87db10",
        "colab": {
          "base_uri": "https://localhost:8080/",
          "height": 35
        }
      },
      "cell_type": "code",
      "source": [
        "num = 10\n",
        "if num % 2 == 0:                      # Se o resto da divisão por 2 for zero\n",
        "    print('Esse número é par')"
      ],
      "execution_count": 0,
      "outputs": [
        {
          "output_type": "stream",
          "text": [
            "Esse número é par\n"
          ],
          "name": "stdout"
        }
      ]
    },
    {
      "metadata": {
        "id": "PU_bFEjw7u4p",
        "colab_type": "code",
        "outputId": "ca241dac-b4c6-470f-e161-7c7e5a865d41",
        "colab": {
          "base_uri": "https://localhost:8080/",
          "height": 35
        }
      },
      "cell_type": "code",
      "source": [
        "if not (1 >= 99):\n",
        "    print('1 < 99')"
      ],
      "execution_count": 0,
      "outputs": [
        {
          "output_type": "stream",
          "text": [
            "1 < 99\n"
          ],
          "name": "stdout"
        }
      ]
    },
    {
      "metadata": {
        "id": "yWbR0LfFXqHh",
        "colab_type": "code",
        "outputId": "f6e7f8a9-a88c-407c-9f73-778c4d9a4658",
        "colab": {
          "base_uri": "https://localhost:8080/",
          "height": 35
        }
      },
      "cell_type": "code",
      "source": [
        "# Testando com o operador and\n",
        "if True and True:\n",
        "    print('True and True')\n",
        "if True and False:\n",
        "    print('True and False')\n",
        "if False and True:\n",
        "    print('False and True')\n",
        "if False and False:\n",
        "    print('False and False')"
      ],
      "execution_count": 0,
      "outputs": [
        {
          "output_type": "stream",
          "text": [
            "True and True\n"
          ],
          "name": "stdout"
        }
      ]
    },
    {
      "metadata": {
        "id": "1RpWIJnpYFMG",
        "colab_type": "code",
        "outputId": "e539c980-b983-4e10-8fcf-8c16ea19a43a",
        "colab": {
          "base_uri": "https://localhost:8080/",
          "height": 71
        }
      },
      "cell_type": "code",
      "source": [
        "# Testando com o operador or\n",
        "if True or True:\n",
        "    print('True or True')\n",
        "if True or False:\n",
        "    print('True or False')\n",
        "if False or True:\n",
        "    print('False or True')\n",
        "if False or False:\n",
        "    print('False or False')"
      ],
      "execution_count": 0,
      "outputs": [
        {
          "output_type": "stream",
          "text": [
            "True and True\n",
            "True and False\n",
            "False and True\n"
          ],
          "name": "stdout"
        }
      ]
    },
    {
      "metadata": {
        "id": "TjKR-KV7YOta",
        "colab_type": "code",
        "outputId": "e0239fe4-4ca8-4973-bfd8-f33afa3221c8",
        "colab": {
          "base_uri": "https://localhost:8080/",
          "height": 35
        }
      },
      "cell_type": "code",
      "source": [
        "# Testando com operadores lógicos\n",
        "if True and not (False or not True):\n",
        "    print('True and True')"
      ],
      "execution_count": 0,
      "outputs": [
        {
          "output_type": "stream",
          "text": [
            "True and True\n"
          ],
          "name": "stdout"
        }
      ]
    },
    {
      "metadata": {
        "id": "nQtjwzZV8PUx",
        "colab_type": "code",
        "outputId": "c323c27e-53ef-44f1-857e-1d668410b6cb",
        "colab": {
          "base_uri": "https://localhost:8080/",
          "height": 53
        }
      },
      "cell_type": "code",
      "source": [
        "# Jogo da divinhação\n",
        "num_secreto = 288**3 / 987 - 999 + 3\n",
        "num = int(input('Adivinhe o número: '))\n",
        "if num == num_secreto:\n",
        "    print('Você acertou o número secreto!')\n",
        "if num > num_secreto:\n",
        "    print('O número secreto é menor!')\n",
        "if num < num_secreto:\n",
        "    print('O número secreto é maior!')"
      ],
      "execution_count": 0,
      "outputs": [
        {
          "output_type": "stream",
          "text": [
            "Adivinhe o número: 99999\n",
            "O número secreto é menor!\n"
          ],
          "name": "stdout"
        }
      ]
    },
    {
      "metadata": {
        "id": "d-a9BavwoGeT",
        "colab_type": "text"
      },
      "cell_type": "markdown",
      "source": [
        "Podemos ter instruções dentro de instruções também, não se esqueça disso!"
      ]
    },
    {
      "metadata": {
        "id": "o22FrarsoL9Q",
        "colab_type": "code",
        "colab": {}
      },
      "cell_type": "code",
      "source": [
        "num = 10\n",
        "if num % 2 == 0:\n",
        "    if num > 0:\n",
        "        print('O número é par e positivo')"
      ],
      "execution_count": 0,
      "outputs": []
    },
    {
      "metadata": {
        "id": "xkK_7PVWobAX",
        "colab_type": "text"
      },
      "cell_type": "markdown",
      "source": [
        "Para complementar a instrução `if`,  podemos  utilizar a instrução `else`.  O `else` executa caso o valor lógico da insrução `if` seja falso. Veja:"
      ]
    },
    {
      "metadata": {
        "id": "GVJN2xH8lbd9",
        "colab_type": "code",
        "outputId": "1f677147-58e1-4ab1-81ee-17046fbd0466",
        "colab": {
          "base_uri": "https://localhost:8080/",
          "height": 35
        }
      },
      "cell_type": "code",
      "source": [
        "if True:                              # Se verdadeiro:\n",
        "    print('A condição é verdadeira')  # Executa o bloco de código\n",
        "else:                                 # Senão...\n",
        "    print('A condição é falsa')       # Executa o bloco de código"
      ],
      "execution_count": 0,
      "outputs": [
        {
          "output_type": "stream",
          "text": [
            "A condição é verdadeira\n"
          ],
          "name": "stdout"
        }
      ]
    },
    {
      "metadata": {
        "id": "ShC3gTBWlbY-",
        "colab_type": "code",
        "outputId": "b1ee9ec9-16b5-42a7-e094-10098153ef77",
        "colab": {
          "base_uri": "https://localhost:8080/",
          "height": 35
        }
      },
      "cell_type": "code",
      "source": [
        "if False:                             # Se verdadeiro:\n",
        "    print('A condição é verdadeira')  # Executa o bloco de código\n",
        "else:                                 # Senão...\n",
        "    print('A condição é falsa')       # Executa o bloco de código"
      ],
      "execution_count": 0,
      "outputs": [
        {
          "output_type": "stream",
          "text": [
            "A condição é falsa\n"
          ],
          "name": "stdout"
        }
      ]
    },
    {
      "metadata": {
        "id": "WHKejsIUltpe",
        "colab_type": "text"
      },
      "cell_type": "markdown",
      "source": [
        "Insira um número no programa abaixo e veja se ele é par ou impar."
      ]
    },
    {
      "metadata": {
        "id": "C70eW9u5jgya",
        "colab_type": "code",
        "outputId": "24c557ed-034d-4a14-9043-7e1e6a546bb1",
        "colab": {
          "base_uri": "https://localhost:8080/",
          "height": 53
        }
      },
      "cell_type": "code",
      "source": [
        "# if-else\n",
        "num = int(input())\n",
        "if num % 2 == 0:\n",
        "    print('O número é par')\n",
        "else:\n",
        "    print('O numero é impar')"
      ],
      "execution_count": 0,
      "outputs": [
        {
          "output_type": "stream",
          "text": [
            "5\n",
            "O numero é impar\n"
          ],
          "name": "stdout"
        }
      ]
    },
    {
      "metadata": {
        "id": "xmj07N27l1Rt",
        "colab_type": "text"
      },
      "cell_type": "markdown",
      "source": [
        "O terceiro comando que complementa a instrução `if` é  o `elif`. O `elif` significa `senão` `se`.\n",
        "É similar ao `else`, com a diferença que você faz uma nova verificação logo em seguida, observe:"
      ]
    },
    {
      "metadata": {
        "id": "r7CEV4Jgl0e4",
        "colab_type": "code",
        "colab": {}
      },
      "cell_type": "code",
      "source": [
        "num = int(input())\n",
        "if num > 0:\n",
        "    print('O número é maior que zero')\n",
        "elif num < 0:\n",
        "    print('O número é menor que zero')\n",
        "else:\n",
        "    print('O número é igual a zero.')"
      ],
      "execution_count": 0,
      "outputs": []
    },
    {
      "metadata": {
        "id": "PrDzpAFfmo7a",
        "colab_type": "text"
      },
      "cell_type": "markdown",
      "source": [
        "Você pode colocar quantos `elif`s quanto quiser, mas pode usar apenas um `else` para cada `if`. Pode ter `elif`s sem `else` também!"
      ]
    },
    {
      "metadata": {
        "id": "jo6xEKE--4pO",
        "colab_type": "code",
        "colab": {}
      },
      "cell_type": "code",
      "source": [
        "operacao = int(input('Informe a operação: '))\n",
        "if operacao == 1:\n",
        "    print('Executando a operação 1')\n",
        "elif operacao == 2:\n",
        "    print('Executando a operação 2')\n",
        "elif operacao == 3:\n",
        "    print('Executando a operação 3')\n",
        "else:\n",
        "    print('Operação inválida.')"
      ],
      "execution_count": 0,
      "outputs": []
    },
    {
      "metadata": {
        "id": "SWkJ7tU2_-OM",
        "colab_type": "text"
      },
      "cell_type": "markdown",
      "source": [
        "*__Atenção__: Não existe `else` ou `elif` sem uma respectiva instrução `if`.  A indentação dessas instruções deve ser a mesma. *"
      ]
    },
    {
      "metadata": {
        "id": "HZvyB4JJeDyS",
        "colab_type": "text"
      },
      "cell_type": "markdown",
      "source": [
        "O Python aceita algumas operações bem legais para facilitar a escrita de código, podemos por exemplo, executar uma operação `if-else` tudo em uma linha só, veja:"
      ]
    },
    {
      "metadata": {
        "id": "b7wVRQwNePli",
        "colab_type": "code",
        "outputId": "661dcc60-2f3d-4a41-c730-6e2088a9c575",
        "colab": {
          "base_uri": "https://localhost:8080/",
          "height": 35
        }
      },
      "cell_type": "code",
      "source": [
        "numero = 1\n",
        "var = 1 if numero > 0 else 0\n",
        "print(var)"
      ],
      "execution_count": 0,
      "outputs": [
        {
          "output_type": "stream",
          "text": [
            "1\n"
          ],
          "name": "stdout"
        }
      ]
    },
    {
      "metadata": {
        "id": "gUD3X3aScXU-",
        "colab_type": "text"
      },
      "cell_type": "markdown",
      "source": [
        "### A instrução `while` e a instrução `for`"
      ]
    },
    {
      "metadata": {
        "id": "P0LF9bW1cvMo",
        "colab_type": "text"
      },
      "cell_type": "markdown",
      "source": [
        "Agora que você já sabe como fazer com que um programa tome decisões, vamos aprender como fazer com que certas partes do nosso código se repita iterativamente, ou como executamos uma determinada ação quantas vezes for necessário."
      ]
    },
    {
      "metadata": {
        "id": "VnY3MvgOdIxf",
        "colab_type": "text"
      },
      "cell_type": "markdown",
      "source": [
        "Suponha que você queira executar uma determinada operação várias vezes, digamos, 10 vezes, como você faria?"
      ]
    },
    {
      "metadata": {
        "id": "QFzHxGjxdH3U",
        "colab_type": "code",
        "colab": {}
      },
      "cell_type": "code",
      "source": [
        "# Executando uma operação 10 vezes\n",
        "print('Executando a operação 1')  # Faz de conta que é uma operação bem complexa\n",
        "print('Executando a operação 1')\n",
        "print('Executando a operação 1')\n",
        "print('Executando a operação 1')\n",
        "print('Executando a operação 1')\n",
        "print('Executando a operação 1')\n",
        "print('Executando a operação 1')\n",
        "print('Executando a operação 1')\n",
        "print('Executando a operação 1')\n",
        "print('Executando a operação 1')"
      ],
      "execution_count": 0,
      "outputs": []
    },
    {
      "metadata": {
        "id": "fVz4fW0rdppc",
        "colab_type": "text"
      },
      "cell_type": "markdown",
      "source": [
        "E se fossem 100 vezes? \n",
        "\n",
        "Perceba que a medida que quisermos executar mais vezes o mesmo código, fica cada vez mais complicado de codificar isso no programa. \n",
        "\n",
        "Isso não é o pior, e se desejássemos executar uma operação até que uma condição fosse falsa?"
      ]
    },
    {
      "metadata": {
        "id": "GruTJzxCcmlm",
        "colab_type": "code",
        "colab": {}
      },
      "cell_type": "code",
      "source": [
        "executar = True if input() == 'sim' else False\n",
        "if executar:\n",
        "    print('Executando 1')\n",
        "executar = True if input() == 'sim' else False\n",
        "if executar:\n",
        "    print('Executando 2')\n",
        "executar = True if input() == 'sim' else False\n",
        "if executar:\n",
        "    print('Executando 3')\n",
        "# ... \n",
        "# Infinitos ifs...\n",
        "executar = True if input() == 'sim' else False\n",
        "if executar:\n",
        "    print('Executando n')"
      ],
      "execution_count": 0,
      "outputs": []
    },
    {
      "metadata": {
        "id": "B4jjyjhse_6v",
        "colab_type": "text"
      },
      "cell_type": "markdown",
      "source": [
        "No problema acima,  não teríamos como fazer nosso programa funcionar porque não saberíamos quantas vezes executar o código (e mesmo que soubéssemos, talvez tivéssemos que escrever várias vezes o mesmo código para realizar a ação)"
      ]
    },
    {
      "metadata": {
        "id": "t1Cg8-w5fQpk",
        "colab_type": "text"
      },
      "cell_type": "markdown",
      "source": [
        "Quer ver um exemplo mais prático? Suponha que você seja um matemático e queira calcular o valor de PI com a precisão de 100 casas decimais. Bem, uma das fórmulas que você poderia usar é essa aqui:\n",
        "\n",
        "![Fórmula de Leibniz](https://drive.google.com/uc?export=view&id=1GM8Eko1WLhYUpSj6LDxkEwlx7rOmJkQV)"
      ]
    },
    {
      "metadata": {
        "id": "hDgdqXBDgZNV",
        "colab_type": "text"
      },
      "cell_type": "markdown",
      "source": [
        "Então poderíamos realizar o cálculo na programação, mas... até quando?"
      ]
    },
    {
      "metadata": {
        "id": "2eWk17txgYP_",
        "colab_type": "code",
        "outputId": "6d036bdd-3993-4b21-d394-d30e9cdc5513",
        "colab": {
          "base_uri": "https://localhost:8080/",
          "height": 35
        }
      },
      "cell_type": "code",
      "source": [
        "# Cálculo de PI\n",
        "pi = 1 - 1/3 + 1/5 - 1/7 + 1/9 - 1/11 + 1/13 # ... continua\n",
        "pi *= 4\n",
        "\n",
        "pi"
      ],
      "execution_count": 0,
      "outputs": [
        {
          "output_type": "execute_result",
          "data": {
            "text/plain": [
              "3.2837384837384844"
            ]
          },
          "metadata": {
            "tags": []
          },
          "execution_count": 5
        }
      ]
    },
    {
      "metadata": {
        "id": "C87e8Ghbg_Qj",
        "colab_type": "text"
      },
      "cell_type": "markdown",
      "source": [
        "Para resolver estes e outros problemas podemos utilizar [estruturas de repetição](https://docs.python.org/3/tutorial/controlflow.html). Existem duas principais estruturas de repetição no Python: o `while` e o `for`.\n",
        "\n",
        "As duas instruções são equivalentes, mas dependendo do caso pode ser mais fácil ou mais difícil trabalhar com uma delas. O `while` é mais recomendado para casos mais gerais, ou quando você desconhece quantas vezes irá executar um certo conjunto de operações, o `for` é mais recomendado para iterar em listas (veremos isso um dia) ou para executar um código uma quantidade definida de vezes."
      ]
    },
    {
      "metadata": {
        "id": "viMUGWvBiC-r",
        "colab_type": "text"
      },
      "cell_type": "markdown",
      "source": [
        "Por exemplo, para executar aquela operação 10 vezes, poderíamos fazer:"
      ]
    },
    {
      "metadata": {
        "id": "dNTU9HUCk0wd",
        "colab_type": "code",
        "outputId": "28c2b7f2-6e98-4b0f-8383-6fe924016d29",
        "colab": {
          "base_uri": "https://localhost:8080/",
          "height": 197
        }
      },
      "cell_type": "code",
      "source": [
        "for _ in range(10):\n",
        "    print('Executando a operação 1')"
      ],
      "execution_count": 0,
      "outputs": [
        {
          "output_type": "stream",
          "text": [
            "Executando a operação 1\n",
            "Executando a operação 1\n",
            "Executando a operação 1\n",
            "Executando a operação 1\n",
            "Executando a operação 1\n",
            "Executando a operação 1\n",
            "Executando a operação 1\n",
            "Executando a operação 1\n",
            "Executando a operação 1\n",
            "Executando a operação 1\n"
          ],
          "name": "stdout"
        }
      ]
    },
    {
      "metadata": {
        "id": "LZtBY4hnkzlS",
        "colab_type": "text"
      },
      "cell_type": "markdown",
      "source": [
        "Observe que `range()` retorna algo pra gente, assim como `input()`. Ela retorna um objeto iterável contendo números. Neste caso, de 0 até 10.  \n",
        "\n",
        "Eu omiti o número atual iterado utilizando um underscore (`_`), mas as vezes é util utilizar este número na programação. Veja:"
      ]
    },
    {
      "metadata": {
        "id": "JuG0Cn5blenL",
        "colab_type": "code",
        "outputId": "672b0b3c-88be-4bfd-dc18-aaa9d39d6875",
        "colab": {
          "base_uri": "https://localhost:8080/",
          "height": 197
        }
      },
      "cell_type": "code",
      "source": [
        "for i in range(10):\n",
        "    print('Executando a operação 1 (tentativa {})'.format(i))"
      ],
      "execution_count": 0,
      "outputs": [
        {
          "output_type": "stream",
          "text": [
            "Executando a operação 1 (tentativa 0)\n",
            "Executando a operação 1 (tentativa 1)\n",
            "Executando a operação 1 (tentativa 2)\n",
            "Executando a operação 1 (tentativa 3)\n",
            "Executando a operação 1 (tentativa 4)\n",
            "Executando a operação 1 (tentativa 5)\n",
            "Executando a operação 1 (tentativa 6)\n",
            "Executando a operação 1 (tentativa 7)\n",
            "Executando a operação 1 (tentativa 8)\n",
            "Executando a operação 1 (tentativa 9)\n"
          ],
          "name": "stdout"
        }
      ]
    },
    {
      "metadata": {
        "id": "VQMYg5I2mRC9",
        "colab_type": "text"
      },
      "cell_type": "markdown",
      "source": [
        "Dê uma olhada na documentação de [`range`](https://docs.python.org/3/library/stdtypes.html#range), você pode utilizá-la de diversas formas conforme a sua necessidade."
      ]
    },
    {
      "metadata": {
        "id": "0999-Zxvm--a",
        "colab_type": "text"
      },
      "cell_type": "markdown",
      "source": [
        "Ah, então agora podemos calcular PI não é mesmo?"
      ]
    },
    {
      "metadata": {
        "id": "151CE8HHHl4t",
        "colab_type": "text"
      },
      "cell_type": "markdown",
      "source": [
        "![Meme nazaré](https://drive.google.com/uc?export=view&id=1GblBnJQCdg9ZLUQ7HGxv7znTsIVdASg-)"
      ]
    },
    {
      "metadata": {
        "id": "Ras4CF51nE8w",
        "colab_type": "code",
        "outputId": "73a267e7-050e-413b-ae3d-b98e0c4f2e80",
        "colab": {
          "base_uri": "https://localhost:8080/",
          "height": 35
        }
      },
      "cell_type": "code",
      "source": [
        "# Cálculo de PI\n",
        "pi = 1                                     # Adiciona 1 a pi\n",
        "flag = True                                # Isso é uma flag, vou usar para \n",
        "                                           # alternar o sinal negativo na conta\n",
        "for i in range(1, 1000, 2):                # Para cada i em [1, 3, 5, 7,...,999]\n",
        "    pi += 1/(i + 2) * (-1 if sinal else 1) # Faz a conta da fração e adiciona na\n",
        "                                           # variável\n",
        "    flag = not flag                        # Inverte o sinal\n",
        "\n",
        "pi *= 4                                    # Multiplica tudo por 4\n",
        "print(pi)"
      ],
      "execution_count": 0,
      "outputs": [
        {
          "output_type": "stream",
          "text": [
            "3.143588659585789\n"
          ],
          "name": "stdout"
        }
      ]
    },
    {
      "metadata": {
        "id": "yX4AnrD174LU",
        "colab_type": "text"
      },
      "cell_type": "markdown",
      "source": [
        "#### O comando `break` e `continue`"
      ]
    },
    {
      "metadata": {
        "id": "4wy23rQi77Q7",
        "colab_type": "text"
      },
      "cell_type": "markdown",
      "source": [
        "O comando `break` quebra a execução de um laço de repetição. Veja:"
      ]
    },
    {
      "metadata": {
        "id": "_i5g_O-47_vR",
        "colab_type": "code",
        "outputId": "1d939288-01b6-4259-bb33-3b17af240d70",
        "colab": {
          "base_uri": "https://localhost:8080/",
          "height": 143
        }
      },
      "cell_type": "code",
      "source": [
        "for i in range(100):\n",
        "    print(i)\n",
        "    if (i > 4):\n",
        "        print('Interrompendo...')\n",
        "        break"
      ],
      "execution_count": 0,
      "outputs": [
        {
          "output_type": "stream",
          "text": [
            "0\n",
            "1\n",
            "2\n",
            "3\n",
            "4\n",
            "5\n",
            "Interrompendo...\n"
          ],
          "name": "stdout"
        }
      ]
    },
    {
      "metadata": {
        "id": "25lCFVJU8Kq7",
        "colab_type": "text"
      },
      "cell_type": "markdown",
      "source": [
        "Já o comando `continue`, continua para a próxima iteração."
      ]
    },
    {
      "metadata": {
        "id": "k0YFOv3E8PUg",
        "colab_type": "code",
        "outputId": "0e0f2637-eb69-40bc-e8ac-7c4129a4e8b8",
        "colab": {
          "base_uri": "https://localhost:8080/",
          "height": 107
        }
      },
      "cell_type": "code",
      "source": [
        "for i in range(10):\n",
        "    if i % 2 == 0:   # Se for par, pula para a próxima iteração\n",
        "        continue\n",
        "    print(i)         # Se o continue executou, isso não será executado"
      ],
      "execution_count": 0,
      "outputs": [
        {
          "output_type": "stream",
          "text": [
            "1\n",
            "3\n",
            "5\n",
            "7\n",
            "9\n"
          ],
          "name": "stdout"
        }
      ]
    },
    {
      "metadata": {
        "id": "70iRpHPimPwd",
        "colab_type": "text"
      },
      "cell_type": "markdown",
      "source": [
        "Os comandos `continue` e `break` são compatíveis tanto com o `while` quanto com o `for`."
      ]
    },
    {
      "metadata": {
        "id": "B_k-d4-_17ur",
        "colab_type": "text"
      },
      "cell_type": "markdown",
      "source": [
        "#### Equivalência entre `while` e `for`"
      ]
    },
    {
      "metadata": {
        "id": "V-6_Sszr2BaS",
        "colab_type": "text"
      },
      "cell_type": "markdown",
      "source": [
        "Quando eu digo que as duas instruções são equivalentes, quero dizer que ambas são capazes de computar as mesmas coisas. Sem entrar muito em detalhes, vou deixar um exemplo aqui para que você veja na prática o que estou falando."
      ]
    },
    {
      "metadata": {
        "id": "JEp7oyP92QHl",
        "colab_type": "code",
        "outputId": "a78fe622-4757-4e71-fe41-a289991460e0",
        "colab": {
          "base_uri": "https://localhost:8080/",
          "height": 197
        }
      },
      "cell_type": "code",
      "source": [
        "# Exemplo com while\n",
        "i = 0\n",
        "while i < 10:\n",
        "    print(i)\n",
        "    i += 1"
      ],
      "execution_count": 0,
      "outputs": [
        {
          "output_type": "stream",
          "text": [
            "0\n",
            "1\n",
            "2\n",
            "3\n",
            "4\n",
            "5\n",
            "6\n",
            "7\n",
            "8\n",
            "9\n"
          ],
          "name": "stdout"
        }
      ]
    },
    {
      "metadata": {
        "id": "WiExFGeR2U6L",
        "colab_type": "code",
        "outputId": "60c5edd2-b459-42e0-af48-b70f7bc8811b",
        "colab": {
          "base_uri": "https://localhost:8080/",
          "height": 197
        }
      },
      "cell_type": "code",
      "source": [
        "# Exemplo com for\n",
        "for i in range(10):\n",
        "    print(i)"
      ],
      "execution_count": 0,
      "outputs": [
        {
          "output_type": "stream",
          "text": [
            "0\n",
            "1\n",
            "2\n",
            "3\n",
            "4\n",
            "5\n",
            "6\n",
            "7\n",
            "8\n",
            "9\n"
          ],
          "name": "stdout"
        }
      ]
    },
    {
      "metadata": {
        "id": "qKUxt9Il2QRC",
        "colab_type": "text"
      },
      "cell_type": "markdown",
      "source": [
        "Tome um tempo para verificar os prós e contras de cada uma."
      ]
    },
    {
      "metadata": {
        "id": "_Sp_cQWJEfz-",
        "colab_type": "text"
      },
      "cell_type": "markdown",
      "source": [
        "## Revisão"
      ]
    },
    {
      "metadata": {
        "id": "bg0k3V78EkVQ",
        "colab_type": "code",
        "outputId": "9a727c11-12e8-4181-86c6-cc1f4c6a7518",
        "colab": {
          "base_uri": "https://localhost:8080/",
          "height": 611
        }
      },
      "cell_type": "code",
      "source": [
        "\"\"\"\n",
        "Revisão\n",
        "\"\"\"\n",
        "\n",
        "# Isso é um comentário\n",
        "\"\"\"Isso também, mas é mais utilizado para documentar coisas\"\"\"\n",
        "\n",
        "# Funções são muito importantes. Existem funções embutidas na própria linguagem\n",
        "print('Para imprimir algo, usamos a função print(). O que colocamos dentro dos '\n",
        "      'parenteses chamamos de parâmetros da função')\n",
        "\n",
        "\"\"\"\n",
        "Vimos que Python é interativo então podemos executar ele sem compilar antes\n",
        "\"\"\"\n",
        "print('Python é uma linguagem interpretada')\n",
        "\n",
        "# Python também é facil de entender, porque é alto nível\n",
        "python_eh_alto_nivel = True\n",
        "python_e_facil = True if python_eh_alto_nivel else False\n",
        "\n",
        "# Escolha nomes significativos de variáveis\n",
        "a = 3.14    # Ruim\n",
        "pi = 3.14   # Bom!\n",
        "\n",
        "\"\"\"\n",
        "Uma LP é composta por palavras-chave, elas executam instruções e compõem a \n",
        "lógica do nosso programa\n",
        "\"\"\"\n",
        "help('keywords')\n",
        "\n",
        "# Podemos executar contas em uma LP\n",
        "print(3 + 99)\n",
        "\n",
        "# Com o mesmo símbolo podemos concatenar frases (strings)\n",
        "print('Frase ' + ' concatenada')\n",
        "\n",
        "# Mas se quisermos concatenar com números, devemos dizer ao interpretador que o\n",
        "# número é uma string\n",
        "print(str(4) + ' é uma string')\n",
        "\n",
        "# Além de aritmética podemos realizar operações relacionais\n",
        "print(4 > 3)\n",
        "\n",
        "# E também podemos realizar operações lógicas com and, or e not\n",
        "print(4 > 3 and not True)\n",
        "\n",
        "# Todos esses resultados podem ser armazenados em variáveis, usando o sinal de\n",
        "# atribuição =\n",
        "var = 3 ** 2\n",
        "print(var)\n",
        "\n",
        "# Não esqueça do sinal de =, se quiser alterar o valor da variável\n",
        "print('{} não altera o valor de var'.format(var + 1))\n",
        "var += 1  # Esse sim\n",
        "print(var)\n",
        "\n",
        "# Para ler algo do teclado, usamos a função input()\n",
        "entrada = input('Com uma mensagem legal se quisermos...')\n",
        "\n",
        "# Não esqueça de converter o valor se necessário, a entrada é uma string!\n",
        "entrada_inteiro = int(entrada)  # Também tem float() para valores com vírgula\n",
        "\n",
        "# Com if-elif-else podemos tomar decisões no programa\n",
        "if entrada_inteiro > 0:\n",
        "    pass                      # pass não faz nada, mas temos que indentar...\n",
        "elif entrada_inteiro < 0:\n",
        "    pass\n",
        "else:\n",
        "    pass\n",
        "\n",
        "# Temos também controles de repetição (loops), podemos utilizar o while e o \n",
        "# for:\n",
        "for i in range(4):\n",
        "    # Podemos ter qualquer bloco de instrução dentro de outros blocos de \n",
        "    # instrução\n",
        "    for j in range(10): # Quando existe um for dentro de outro, dizemos que eles\n",
        "                        # estão aninhados\n",
        "        if j == 2:\n",
        "            break   # O comando break irá quebrar o primeiro loop que encontrar\n",
        "        print(i, j)\n",
        "\n",
        "# O while é mais recomendado quando não sabemos quantas vezes iremos executar \n",
        "# uma operação\n",
        "var = True\n",
        "while var:    \n",
        "    print(var)\n",
        "    if var: \n",
        "        var = not var\n",
        "        continue  # O continue irá continuar o primeiro loop que encontrar\n",
        "        print('continue...')"
      ],
      "execution_count": 0,
      "outputs": [
        {
          "output_type": "stream",
          "text": [
            "Para imprimir algo, usamos a função print(). O que colocamos dentro dosparenteses chamamos de parâmetros da função\n",
            "Python é uma linguagem interpretada\n",
            "\n",
            "Here is a list of the Python keywords.  Enter any keyword to get more help.\n",
            "\n",
            "False               def                 if                  raise\n",
            "None                del                 import              return\n",
            "True                elif                in                  try\n",
            "and                 else                is                  while\n",
            "as                  except              lambda              with\n",
            "assert              finally             nonlocal            yield\n",
            "break               for                 not                 \n",
            "class               from                or                  \n",
            "continue            global              pass                \n",
            "\n",
            "None\n",
            "102\n",
            "Frase  concatenada\n",
            "4 é uma string\n",
            "True\n",
            "False\n",
            "9\n",
            "10\n",
            "Com uma mensagem legal se quisermos...2\n",
            "0 0\n",
            "0 1\n",
            "1 0\n",
            "1 1\n",
            "2 0\n",
            "2 1\n",
            "3 0\n",
            "3 1\n",
            "True\n"
          ],
          "name": "stdout"
        }
      ]
    },
    {
      "metadata": {
        "id": "n5EBX4AiAIr7",
        "colab_type": "text"
      },
      "cell_type": "markdown",
      "source": [
        "## Exercícios"
      ]
    },
    {
      "metadata": {
        "id": "jDkY3RhIqP0I",
        "colab_type": "text"
      },
      "cell_type": "markdown",
      "source": [
        "1. Liste cada palavra-chave estudada e esboce rapidamente um resumo da função de cada uma delas.\n",
        "\n",
        "2. Crie um algoritmo que mostre todas as tabuadas de 1 a 10.\n",
        "\n",
        "> *Dica: utilize dois comandos `for` aninhados.*\n",
        "\n",
        "3. Crie um algoritmo que leia 5 números. Mostre na tela quantos deles são positivos, e quantos são negativos.\n",
        "\n",
        "> *Dica: armazena a quantidade de números negativos e positivos em variáveis.*\n",
        "\n",
        "4. Crie um algoritmo que verifica se um número é primo ou não (faça a leitura do número pelo teclado).\n",
        "\n",
        ">*Dica: crie um comando for que calcule o resto de cada número entre 2 e o número que você quer verificar.  Um número primo não pode ser divisível por nenhum outro número (o resto deve ser diferente de 0). *\n",
        "\n",
        "5. Faça um algoritmo que leia as 3 notas de um aluno e calcule a média final deste aluno. Considerar que a média é ponderada e que o peso das notas é: 2,3 e 5, respectivamente.\n",
        "\n",
        "6. Dado o raio de um círculo, calcule a sua área e seu perímetro.\n",
        "\n",
        "7. Dados dois pontos em um plano cartesiano, calcule a distância entre eles.\n",
        "\n"
      ]
    },
    {
      "metadata": {
        "id": "pzGn2tvMG1tl",
        "colab_type": "text"
      },
      "cell_type": "markdown",
      "source": [
        "## Glosário"
      ]
    },
    {
      "metadata": {
        "id": "OGhHRZXGG4kw",
        "colab_type": "text"
      },
      "cell_type": "markdown",
      "source": [
        "Shell:"
      ]
    },
    {
      "metadata": {
        "id": "kPfwRvDtSWWI",
        "colab_type": "text"
      },
      "cell_type": "markdown",
      "source": [
        "## Dicas"
      ]
    },
    {
      "metadata": {
        "id": "BB05VAQJbr_C",
        "colab_type": "text"
      },
      "cell_type": "markdown",
      "source": [
        "#### Pesquise!\n",
        "\n",
        "Veja sobre as aplicações em Python, pesquise sobre vídeos de Python, talvez você encontre projetos legais. Se inspire com programação e procure algum projeto o mais rápido o possível para você praticar."
      ]
    },
    {
      "metadata": {
        "id": "iYCk-yWKSb2_",
        "colab_type": "text"
      },
      "cell_type": "markdown",
      "source": [
        "#### Saiba ler!\n",
        "\n",
        "Saiba ler e entender o código dos outros ao invés de cair na tentação de simplesmente copiá-los. Python é uma linguagem alto nível então é possível entender a lógica da programação apenas lendo o código escrito.\n",
        "\n",
        "Essa é uma habilidade importante que você precisa desenvolver."
      ]
    },
    {
      "metadata": {
        "id": "SltJvMpv6w-b",
        "colab_type": "text"
      },
      "cell_type": "markdown",
      "source": [
        "#### Entenda inglês \n",
        "\n",
        "Você deve ter percebido que a maioria dos conteúdos relacionados a programação estão na língua inglesa. Se você tem dificuldades com o inglês, veja isso como uma oportunidade de aprender um pouco a língua.\n",
        "\n",
        "Não se intimide pelo inglês, se tiver uma dúvida, __pesquise por ela em inglês__!\n",
        "\n",
        "Ah, escreve seu código em inglês também, inclusive os comentários se possível, você aprenderá bastante.\n"
      ]
    },
    {
      "metadata": {
        "id": "x_Jey72yJ6qs",
        "colab_type": "text"
      },
      "cell_type": "markdown",
      "source": [
        "##Próximos passos: o que eu faço agora?"
      ]
    },
    {
      "metadata": {
        "id": "JLG57vOt0xY9",
        "colab_type": "text"
      },
      "cell_type": "markdown",
      "source": [
        "Se você chegou até aqui, espero que tenha gostado e aprendido muito sobre Python e programação. \n",
        "\n",
        "Se você não gostou muito, não tem problema, tenho certeza que é muito útil ter o conhecimento básico sobre programação e que esse conhecimento te ajudará de alguma forma.\n",
        "\n",
        "Se gostou, convido você a continuar aprendendo Python e programação, porque existe muita coisa para ver ainda... isso foi só o começo.\n",
        "\n",
        "Deixei um simples RoadMap com algumas das áreas que você pode ir para continuar essa jornada. \n",
        "\n",
        "É isso aí, um grande abraço, e até logo!"
      ]
    },
    {
      "metadata": {
        "id": "uoBNSU6ORokd",
        "colab_type": "text"
      },
      "cell_type": "markdown",
      "source": [
        "### RoadMap "
      ]
    },
    {
      "metadata": {
        "id": "ATlG8h2giDWd",
        "colab_type": "text"
      },
      "cell_type": "markdown",
      "source": [
        "![Roadmap](https://drive.google.com/uc?export=view&id=1ElBn2dsW6_giCbPYAFDwWFghKYcjFQYj)\n"
      ]
    },
    {
      "metadata": {
        "id": "L6QkfIrUNfG7",
        "colab_type": "text"
      },
      "cell_type": "markdown",
      "source": [
        "\n",
        "\n",
        "---\n",
        "\n",
        "\n",
        "\n",
        "## *Sobre*\n",
        "\n",
        "*Criado por Lucas Rafael Gris. Versão 1.0.*\n",
        "\n",
        "##### *Contato*\n",
        "\n",
        "*E-mail: lucas.rafael.gris@gmail.com*\n",
        "\n",
        "*Linked In: *\n",
        "\n",
        "*Github: https://github.com/lucasgris*\n",
        "\n"
      ]
    },
    {
      "metadata": {
        "id": "Er-Vz6ZLIdyI",
        "colab_type": "text"
      },
      "cell_type": "markdown",
      "source": [
        "#### *Revisado por:*\n",
        "\n",
        "##### *Contato*\n",
        "\n",
        "*E-mail: *\n",
        "\n",
        "*Linked In: *\n",
        "\n",
        "*Github:*\n",
        "\n",
        "##### *Contato*\n",
        "\n",
        "*E-mail: *\n",
        "\n",
        "*Linked In: *\n",
        "\n",
        "*Github: *"
      ]
    },
    {
      "metadata": {
        "id": "cT69E5IlyV--",
        "colab_type": "text"
      },
      "cell_type": "markdown",
      "source": [
        "---\n",
        "\n",
        "__Licensa__\n",
        "\n",
        "![](https://drive.google.com/uc?export=view&id=1Uq7UxJPT9ytP0ABv8hYNWo9ciDZB7guX)\n",
        "\n",
        "*This work is licensed under the Creative Commons Attribution-NonCommercial 4.0 International License. To view a copy of this license, visit http://creativecommons.org/licenses/by-nc/4.0/ or send a letter to Creative Commons, PO Box 1866, Mountain View, CA 94042, USA.*"
      ]
    }
  ]
}